{
 "cells": [
  {
   "cell_type": "code",
   "execution_count": 1,
   "id": "8583f363-1cd4-44ac-9a3f-f4a095e84ebe",
   "metadata": {},
   "outputs": [],
   "source": [
    "#question1 answer"
   ]
  },
  {
   "cell_type": "code",
   "execution_count": 3,
   "id": "1636197d-f7d9-4cd1-9885-dc95d5edc5d6",
   "metadata": {},
   "outputs": [],
   "source": [
    "#string"
   ]
  },
  {
   "cell_type": "code",
   "execution_count": 4,
   "id": "debd3ec8-b793-4077-b720-242cd19233e2",
   "metadata": {},
   "outputs": [],
   "source": [
    "a = \"RAM\""
   ]
  },
  {
   "cell_type": "code",
   "execution_count": 5,
   "id": "cd5cae70-38ed-445f-a0c2-ff773b7c662e",
   "metadata": {},
   "outputs": [
    {
     "data": {
      "text/plain": [
       "'RAM'"
      ]
     },
     "execution_count": 5,
     "metadata": {},
     "output_type": "execute_result"
    }
   ],
   "source": [
    "a"
   ]
  },
  {
   "cell_type": "code",
   "execution_count": 6,
   "id": "4993bc8a-9192-4247-8131-67467aadca64",
   "metadata": {},
   "outputs": [
    {
     "data": {
      "text/plain": [
       "str"
      ]
     },
     "execution_count": 6,
     "metadata": {},
     "output_type": "execute_result"
    }
   ],
   "source": [
    "type(a)"
   ]
  },
  {
   "cell_type": "code",
   "execution_count": 7,
   "id": "89e3c038-9f09-400c-8175-1385e6e9ab7e",
   "metadata": {},
   "outputs": [],
   "source": [
    "#list"
   ]
  },
  {
   "cell_type": "code",
   "execution_count": 8,
   "id": "5de635f7-621f-4bf2-889c-47b9dcae65cf",
   "metadata": {},
   "outputs": [],
   "source": [
    "b = [12,\"sandeep\",67.98,78,7+8j]"
   ]
  },
  {
   "cell_type": "code",
   "execution_count": 9,
   "id": "ba0b6494-7319-4b8b-bc74-3863353b956f",
   "metadata": {},
   "outputs": [
    {
     "data": {
      "text/plain": [
       "[12, 'sandeep', 67.98, 78, (7+8j)]"
      ]
     },
     "execution_count": 9,
     "metadata": {},
     "output_type": "execute_result"
    }
   ],
   "source": [
    "b"
   ]
  },
  {
   "cell_type": "code",
   "execution_count": 10,
   "id": "1dbad24d-ae6f-4e45-b869-c99128a76c03",
   "metadata": {},
   "outputs": [
    {
     "data": {
      "text/plain": [
       "list"
      ]
     },
     "execution_count": 10,
     "metadata": {},
     "output_type": "execute_result"
    }
   ],
   "source": [
    "type(b)"
   ]
  },
  {
   "cell_type": "code",
   "execution_count": 14,
   "id": "77a9b035-9479-435e-ad1b-55ff78dd2f93",
   "metadata": {},
   "outputs": [],
   "source": [
    "#float"
   ]
  },
  {
   "cell_type": "code",
   "execution_count": 11,
   "id": "1e92bb21-e8c0-4cd7-83a8-c1a3eca79afa",
   "metadata": {},
   "outputs": [],
   "source": [
    "c= 76.9876"
   ]
  },
  {
   "cell_type": "code",
   "execution_count": 12,
   "id": "1f759f48-29ca-4be7-a738-776f7d2f39fa",
   "metadata": {},
   "outputs": [
    {
     "data": {
      "text/plain": [
       "76.9876"
      ]
     },
     "execution_count": 12,
     "metadata": {},
     "output_type": "execute_result"
    }
   ],
   "source": [
    "c"
   ]
  },
  {
   "cell_type": "code",
   "execution_count": 13,
   "id": "a554835d-3bb3-4f23-802a-c4e5c779f327",
   "metadata": {},
   "outputs": [
    {
     "data": {
      "text/plain": [
       "float"
      ]
     },
     "execution_count": 13,
     "metadata": {},
     "output_type": "execute_result"
    }
   ],
   "source": [
    "type(c)"
   ]
  },
  {
   "cell_type": "code",
   "execution_count": 15,
   "id": "32d23dc1-6f94-468d-a0ca-fe29a50d57cd",
   "metadata": {},
   "outputs": [],
   "source": [
    "#tuple"
   ]
  },
  {
   "cell_type": "code",
   "execution_count": 16,
   "id": "3574ad81-91cf-4135-b62f-a9b04a6ed052",
   "metadata": {},
   "outputs": [],
   "source": [
    "d=(1,\"apple\",67.98,True)"
   ]
  },
  {
   "cell_type": "code",
   "execution_count": 17,
   "id": "2b2215c1-8d64-42b5-8617-5be0307ed66b",
   "metadata": {},
   "outputs": [
    {
     "data": {
      "text/plain": [
       "(1, 'apple', 67.98, True)"
      ]
     },
     "execution_count": 17,
     "metadata": {},
     "output_type": "execute_result"
    }
   ],
   "source": [
    "d"
   ]
  },
  {
   "cell_type": "code",
   "execution_count": 18,
   "id": "672d9430-8441-418c-9f2e-70e0114541c9",
   "metadata": {},
   "outputs": [
    {
     "data": {
      "text/plain": [
       "tuple"
      ]
     },
     "execution_count": 18,
     "metadata": {},
     "output_type": "execute_result"
    }
   ],
   "source": [
    "type(d)"
   ]
  },
  {
   "cell_type": "code",
   "execution_count": null,
   "id": "9dc48dc3-c3a7-41af-a57b-d594b1b14237",
   "metadata": {},
   "outputs": [],
   "source": []
  },
  {
   "cell_type": "code",
   "execution_count": 19,
   "id": "42846591-9380-494d-9c51-738118223663",
   "metadata": {},
   "outputs": [],
   "source": [
    "#question2 answer"
   ]
  },
  {
   "cell_type": "code",
   "execution_count": 20,
   "id": "875531cd-1998-4cad-bc29-926ec6d6404f",
   "metadata": {},
   "outputs": [],
   "source": [
    "var1=''"
   ]
  },
  {
   "cell_type": "code",
   "execution_count": 21,
   "id": "cdc31998-ad52-4527-bee0-4e3be7e31525",
   "metadata": {},
   "outputs": [
    {
     "data": {
      "text/plain": [
       "str"
      ]
     },
     "execution_count": 21,
     "metadata": {},
     "output_type": "execute_result"
    }
   ],
   "source": [
    "type(var1)"
   ]
  },
  {
   "cell_type": "code",
   "execution_count": 22,
   "id": "efb0b705-c51d-4b78-b6ac-555024103036",
   "metadata": {},
   "outputs": [],
   "source": [
    "var2='[DS,ML,PYTHON]'"
   ]
  },
  {
   "cell_type": "code",
   "execution_count": 24,
   "id": "6182e345-d763-4b96-9c58-db6dfae3eb4f",
   "metadata": {},
   "outputs": [
    {
     "data": {
      "text/plain": [
       "str"
      ]
     },
     "execution_count": 24,
     "metadata": {},
     "output_type": "execute_result"
    }
   ],
   "source": [
    "type(var2)"
   ]
  },
  {
   "cell_type": "code",
   "execution_count": 25,
   "id": "f2e6ddc2-1703-45ee-bcb6-455e8e2610a7",
   "metadata": {},
   "outputs": [],
   "source": [
    "var3=['DS','ML','PYTHON']"
   ]
  },
  {
   "cell_type": "code",
   "execution_count": 26,
   "id": "21c715b6-80e3-4789-9ba2-3c5ed349c981",
   "metadata": {},
   "outputs": [
    {
     "data": {
      "text/plain": [
       "list"
      ]
     },
     "execution_count": 26,
     "metadata": {},
     "output_type": "execute_result"
    }
   ],
   "source": [
    "type(var3)"
   ]
  },
  {
   "cell_type": "code",
   "execution_count": 27,
   "id": "a117daa8-639f-4e64-9d64-74dde068242b",
   "metadata": {},
   "outputs": [],
   "source": [
    "var4 = 1"
   ]
  },
  {
   "cell_type": "code",
   "execution_count": 28,
   "id": "6fe1d3e3-6745-4d96-b76e-384a02563d1e",
   "metadata": {},
   "outputs": [
    {
     "data": {
      "text/plain": [
       "int"
      ]
     },
     "execution_count": 28,
     "metadata": {},
     "output_type": "execute_result"
    }
   ],
   "source": [
    "type(var4)"
   ]
  },
  {
   "cell_type": "code",
   "execution_count": null,
   "id": "be74dbf0-3f84-46bb-8a59-635b5c17b01f",
   "metadata": {},
   "outputs": [],
   "source": []
  },
  {
   "cell_type": "code",
   "execution_count": 30,
   "id": "6cf1acf2-fe2b-402d-ac16-fa9542f8df64",
   "metadata": {},
   "outputs": [],
   "source": [
    "#question3 answer"
   ]
  },
  {
   "cell_type": "code",
   "execution_count": 32,
   "id": "d1aa24d9-7d9c-4f68-9083-92f9b5d80d21",
   "metadata": {},
   "outputs": [],
   "source": [
    "# /=division operator"
   ]
  },
  {
   "cell_type": "code",
   "execution_count": 33,
   "id": "ed513091-1d20-4704-a0cd-b9479224a193",
   "metadata": {},
   "outputs": [
    {
     "data": {
      "text/plain": [
       "0.42857142857142855"
      ]
     },
     "execution_count": 33,
     "metadata": {},
     "output_type": "execute_result"
    }
   ],
   "source": [
    "3/7"
   ]
  },
  {
   "cell_type": "code",
   "execution_count": 34,
   "id": "200a9750-3116-41ef-8bdc-5890641a0bef",
   "metadata": {},
   "outputs": [],
   "source": [
    "# %=remainder operator"
   ]
  },
  {
   "cell_type": "code",
   "execution_count": 35,
   "id": "fa491a97-4012-433d-a2a3-42d7bba884d2",
   "metadata": {},
   "outputs": [
    {
     "data": {
      "text/plain": [
       "1"
      ]
     },
     "execution_count": 35,
     "metadata": {},
     "output_type": "execute_result"
    }
   ],
   "source": [
    "3%2"
   ]
  },
  {
   "cell_type": "code",
   "execution_count": 36,
   "id": "4ad6402b-131e-46e8-bc09-499117744ee3",
   "metadata": {},
   "outputs": [],
   "source": [
    "#//= division flour operator"
   ]
  },
  {
   "cell_type": "code",
   "execution_count": 37,
   "id": "8780dd2f-9cfe-4449-877d-68ed10b34c6b",
   "metadata": {},
   "outputs": [
    {
     "data": {
      "text/plain": [
       "1"
      ]
     },
     "execution_count": 37,
     "metadata": {},
     "output_type": "execute_result"
    }
   ],
   "source": [
    "7//4"
   ]
  },
  {
   "cell_type": "code",
   "execution_count": 38,
   "id": "f8bc9fe3-395f-4c8d-b87e-547174031388",
   "metadata": {},
   "outputs": [
    {
     "data": {
      "text/plain": [
       "5"
      ]
     },
     "execution_count": 38,
     "metadata": {},
     "output_type": "execute_result"
    }
   ],
   "source": [
    "10//2"
   ]
  },
  {
   "cell_type": "code",
   "execution_count": 39,
   "id": "1390c285-bb02-4d67-abd2-2e40428841e5",
   "metadata": {},
   "outputs": [],
   "source": [
    "# **=power operator  2**3 =2*2*2"
   ]
  },
  {
   "cell_type": "code",
   "execution_count": 40,
   "id": "d5a4bf87-9db2-47a3-a054-db61ad0591e2",
   "metadata": {},
   "outputs": [
    {
     "data": {
      "text/plain": [
       "243"
      ]
     },
     "execution_count": 40,
     "metadata": {},
     "output_type": "execute_result"
    }
   ],
   "source": [
    "3**5"
   ]
  },
  {
   "cell_type": "code",
   "execution_count": null,
   "id": "85afb698-f31f-4c1d-a416-3201a8e5a77c",
   "metadata": {},
   "outputs": [],
   "source": []
  },
  {
   "cell_type": "code",
   "execution_count": 41,
   "id": "43c811bc-bba1-40c5-a726-becc9d0ba246",
   "metadata": {},
   "outputs": [],
   "source": [
    "#question4 answer"
   ]
  },
  {
   "cell_type": "code",
   "execution_count": 42,
   "id": "2453437f-604b-47e1-91a3-9e52e64a9fed",
   "metadata": {},
   "outputs": [],
   "source": [
    "k = [34,67,89.87,98,\"love\",\"sweety\",7+6j,(7,8,9),'sudhansusir',True]"
   ]
  },
  {
   "cell_type": "code",
   "execution_count": 43,
   "id": "7da54717-9825-4411-aa08-b41ee47295c8",
   "metadata": {},
   "outputs": [
    {
     "data": {
      "text/plain": [
       "[34, 67, 89.87, 98, 'love', 'sweety', (7+6j), (7, 8, 9), 'sudhansusir', True]"
      ]
     },
     "execution_count": 43,
     "metadata": {},
     "output_type": "execute_result"
    }
   ],
   "source": [
    "k"
   ]
  },
  {
   "cell_type": "code",
   "execution_count": 45,
   "id": "c76a4d88-c47e-42e4-beec-569d30964bef",
   "metadata": {},
   "outputs": [
    {
     "name": "stdout",
     "output_type": "stream",
     "text": [
      "<class 'int'>\n",
      "34\n",
      "<class 'int'>\n",
      "67\n",
      "<class 'float'>\n",
      "89.87\n",
      "<class 'int'>\n",
      "98\n",
      "<class 'str'>\n",
      "love\n",
      "<class 'str'>\n",
      "sweety\n",
      "<class 'complex'>\n",
      "(7+6j)\n",
      "<class 'tuple'>\n",
      "(7, 8, 9)\n",
      "<class 'str'>\n",
      "sudhansusir\n",
      "<class 'bool'>\n",
      "True\n"
     ]
    }
   ],
   "source": [
    "for i in k:\n",
    "    print(type(i))\n",
    "    if i==99:\n",
    "        continue\n",
    "    print(i)\n",
    "        \n",
    "        \n",
    "    "
   ]
  },
  {
   "cell_type": "code",
   "execution_count": null,
   "id": "aec3cfda-63ba-4dc0-947f-ece2162f5cfc",
   "metadata": {},
   "outputs": [],
   "source": []
  },
  {
   "cell_type": "code",
   "execution_count": 46,
   "id": "fd90e51b-05cb-410d-b95b-c81fa8c025fe",
   "metadata": {},
   "outputs": [],
   "source": [
    "#question5 answer"
   ]
  },
  {
   "cell_type": "code",
   "execution_count": 47,
   "id": "780b0657-f864-44ab-94fa-03a81e0464ea",
   "metadata": {},
   "outputs": [],
   "source": [
    "#LETS NUM1 IS m AND NUM2 IS n"
   ]
  },
  {
   "cell_type": "code",
   "execution_count": 3,
   "id": "1472c1de-e482-48d1-95d7-468b16a83e97",
   "metadata": {},
   "outputs": [
    {
     "name": "stdout",
     "output_type": "stream",
     "text": [
      "number A is purely divide by number B\n",
      "2.0\n"
     ]
    }
   ],
   "source": [
    "m=40\n",
    "n=20\n",
    "while m%n==0:\n",
    "    print(\"number A is purely divide by number B\")\n",
    "    m=m/n\n",
    "    if m==2:\n",
    "        print(m)\n",
    "        break\n",
    "      \n",
    "    "
   ]
  },
  {
   "cell_type": "code",
   "execution_count": null,
   "id": "73021fac-ada3-4332-adf8-6a21b10ee23c",
   "metadata": {},
   "outputs": [],
   "source": []
  },
  {
   "cell_type": "code",
   "execution_count": 4,
   "id": "8731ce18-2adc-4162-a350-2721e1f09fb1",
   "metadata": {},
   "outputs": [],
   "source": [
    "#question6 answer"
   ]
  },
  {
   "cell_type": "code",
   "execution_count": 10,
   "id": "41822d56-8cdf-4c2f-ac7e-0b96587d599e",
   "metadata": {},
   "outputs": [],
   "source": [
    "u = [20,23,26,27,76,67,56,45,24,36,39,30,50,53,56,76,75,93,95,90,84,89,87,86,43]"
   ]
  },
  {
   "cell_type": "code",
   "execution_count": 12,
   "id": "879216fa-e53f-423d-990a-82435078ea71",
   "metadata": {},
   "outputs": [
    {
     "data": {
      "text/plain": [
       "[20,\n",
       " 23,\n",
       " 26,\n",
       " 27,\n",
       " 76,\n",
       " 67,\n",
       " 56,\n",
       " 45,\n",
       " 24,\n",
       " 36,\n",
       " 39,\n",
       " 30,\n",
       " 50,\n",
       " 53,\n",
       " 56,\n",
       " 76,\n",
       " 75,\n",
       " 93,\n",
       " 95,\n",
       " 90,\n",
       " 84,\n",
       " 89,\n",
       " 87,\n",
       " 86,\n",
       " 43]"
      ]
     },
     "execution_count": 12,
     "metadata": {},
     "output_type": "execute_result"
    }
   ],
   "source": [
    "u"
   ]
  },
  {
   "cell_type": "code",
   "execution_count": 16,
   "id": "085f0748-1b45-4d84-a68d-47fc4be560f4",
   "metadata": {},
   "outputs": [
    {
     "name": "stdout",
     "output_type": "stream",
     "text": [
      "the element is not divisible by 3\n",
      "20\n",
      "the element is not divisible by 3\n",
      "23\n",
      "the element is not divisible by 3\n",
      "26\n",
      "the element is divisible by 3\n",
      "27\n",
      "the element is not divisible by 3\n",
      "76\n",
      "the element is not divisible by 3\n",
      "67\n",
      "the element is not divisible by 3\n",
      "56\n",
      "the element is divisible by 3\n",
      "45\n",
      "the element is divisible by 3\n",
      "24\n",
      "the element is divisible by 3\n",
      "36\n",
      "the element is divisible by 3\n",
      "39\n",
      "the element is divisible by 3\n",
      "30\n",
      "the element is not divisible by 3\n",
      "50\n",
      "the element is not divisible by 3\n",
      "53\n",
      "the element is not divisible by 3\n",
      "56\n",
      "the element is not divisible by 3\n",
      "76\n",
      "the element is divisible by 3\n",
      "75\n",
      "the element is divisible by 3\n",
      "93\n",
      "the element is not divisible by 3\n",
      "95\n",
      "the element is divisible by 3\n",
      "90\n",
      "the element is divisible by 3\n",
      "84\n",
      "the element is not divisible by 3\n",
      "89\n",
      "the element is divisible by 3\n",
      "87\n",
      "the element is not divisible by 3\n",
      "86\n",
      "the element is not divisible by 3\n",
      "43\n"
     ]
    }
   ],
   "source": [
    "for i in u:\n",
    "        if i%3 == 0:\n",
    "            print(\"the element is divisible by 3\")\n",
    "        else :\n",
    "            print(\"the element is not divisible by 3\")\n",
    "        if i==100:\n",
    "            continue\n",
    "        print(i)\n",
    "            \n",
    "            \n",
    "            \n",
    "            \n",
    "        "
   ]
  },
  {
   "cell_type": "code",
   "execution_count": null,
   "id": "f8dbce20-4fc9-423d-8fd9-b0bc9a69d4cc",
   "metadata": {},
   "outputs": [],
   "source": []
  },
  {
   "cell_type": "code",
   "execution_count": 17,
   "id": "0c78f112-e6cd-47ac-a11e-cbb9b0bbe1b4",
   "metadata": {},
   "outputs": [],
   "source": [
    "#question7 answer"
   ]
  },
  {
   "cell_type": "code",
   "execution_count": 18,
   "id": "7a508315-9c19-4f60-adf8-5cf9cf869ff1",
   "metadata": {},
   "outputs": [],
   "source": [
    "#MUTABLE DATA TYPE :\n",
    "      #OBJECTS OF MUTABLE DATA TYPEA CAN BE MODIFIED AFTER CREATION.\n",
    "     #CHANGES TO THE OBJECT DO NOT CREATE A NEW OBJECTS .\n",
    "    #EXAMPLES IN PYTHON INCLUDING LISTS ,DICTIONIERS AND SETS\n",
    "    \n",
    "#IMUTABLE DAT TYPE :\n",
    "      #OBJECTS OF IMUTABLE DAT TYPES CANNOT BE MODIFIED AFTER CREATION\n",
    "    #ANY OPERATION THAT APPERAS TO MODIFY THE OBJECTS ACTUALLY CREATES A NEW OBJECTS.\n",
    "   #EXAMPLES IN PYTHON INCLUDE INTEGERS ,FLOATS ,STRINGS AND TUPLES"
   ]
  },
  {
   "cell_type": "code",
   "execution_count": 19,
   "id": "fe4e430c-5227-40af-8afd-2c055e4bafb0",
   "metadata": {},
   "outputs": [],
   "source": [
    "#MUTABLE DATA TYPE"
   ]
  },
  {
   "cell_type": "code",
   "execution_count": 20,
   "id": "12bfa267-3677-4943-ba4c-58ecd25e8861",
   "metadata": {},
   "outputs": [],
   "source": [
    "l = ['sudh',67,78,]"
   ]
  },
  {
   "cell_type": "code",
   "execution_count": 22,
   "id": "15a6102d-ac20-40f1-8b2d-8124cf8a9e2e",
   "metadata": {},
   "outputs": [
    {
     "data": {
      "text/plain": [
       "'sudh'"
      ]
     },
     "execution_count": 22,
     "metadata": {},
     "output_type": "execute_result"
    }
   ],
   "source": [
    "l[0]"
   ]
  },
  {
   "cell_type": "code",
   "execution_count": 23,
   "id": "e413dec6-db18-4484-8a13-4c8c2549f147",
   "metadata": {},
   "outputs": [],
   "source": [
    "l[0]=\"mayank\""
   ]
  },
  {
   "cell_type": "code",
   "execution_count": 24,
   "id": "aea63641-27d1-46b7-98ef-c4ae988f0be8",
   "metadata": {},
   "outputs": [
    {
     "data": {
      "text/plain": [
       "['mayank', 67, 78]"
      ]
     },
     "execution_count": 24,
     "metadata": {},
     "output_type": "execute_result"
    }
   ],
   "source": [
    "l"
   ]
  },
  {
   "cell_type": "code",
   "execution_count": 25,
   "id": "7f00917c-a289-4d06-abbd-d47d91fb9e9e",
   "metadata": {},
   "outputs": [],
   "source": [
    "l[0]=89"
   ]
  },
  {
   "cell_type": "code",
   "execution_count": 26,
   "id": "11c09013-0c73-4d9e-8834-8049809ad2c3",
   "metadata": {},
   "outputs": [
    {
     "data": {
      "text/plain": [
       "[89, 67, 78]"
      ]
     },
     "execution_count": 26,
     "metadata": {},
     "output_type": "execute_result"
    }
   ],
   "source": [
    "l"
   ]
  },
  {
   "cell_type": "code",
   "execution_count": 27,
   "id": "57933a15-2643-4259-bf20-990427cc3874",
   "metadata": {},
   "outputs": [],
   "source": [
    "#imutable data type:"
   ]
  },
  {
   "cell_type": "code",
   "execution_count": 28,
   "id": "f80a5fe6-accc-4fd1-b991-ebc208ba21b5",
   "metadata": {},
   "outputs": [],
   "source": [
    "l=(89,78,67)"
   ]
  },
  {
   "cell_type": "code",
   "execution_count": 30,
   "id": "b60e2967-23fe-42f2-81b1-ff789b35905e",
   "metadata": {},
   "outputs": [
    {
     "data": {
      "text/plain": [
       "78"
      ]
     },
     "execution_count": 30,
     "metadata": {},
     "output_type": "execute_result"
    }
   ],
   "source": [
    "l[1]"
   ]
  },
  {
   "cell_type": "code",
   "execution_count": null,
   "id": "875f20f9-3864-4706-9584-c494643b3c57",
   "metadata": {},
   "outputs": [],
   "source": []
  }
 ],
 "metadata": {
  "kernelspec": {
   "display_name": "Python 3 (ipykernel)",
   "language": "python",
   "name": "python3"
  },
  "language_info": {
   "codemirror_mode": {
    "name": "ipython",
    "version": 3
   },
   "file_extension": ".py",
   "mimetype": "text/x-python",
   "name": "python",
   "nbconvert_exporter": "python",
   "pygments_lexer": "ipython3",
   "version": "3.10.8"
  }
 },
 "nbformat": 4,
 "nbformat_minor": 5
}
