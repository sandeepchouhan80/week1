{
 "cells": [
  {
   "cell_type": "code",
   "execution_count": 2,
   "id": "9685632b-b899-4c5f-ad2e-6094b4b40cc1",
   "metadata": {},
   "outputs": [],
   "source": [
    "a=1"
   ]
  },
  {
   "cell_type": "code",
   "execution_count": 3,
   "id": "199cea2c-e7ea-4c4f-a9ff-c3bee54c1aa5",
   "metadata": {},
   "outputs": [
    {
     "data": {
      "text/plain": [
       "1"
      ]
     },
     "execution_count": 3,
     "metadata": {},
     "output_type": "execute_result"
    }
   ],
   "source": [
    "a"
   ]
  },
  {
   "cell_type": "code",
   "execution_count": 4,
   "id": "afa6fc5f-5cfe-47f7-b456-8c8e75f8d5ca",
   "metadata": {},
   "outputs": [
    {
     "data": {
      "text/plain": [
       "int"
      ]
     },
     "execution_count": 4,
     "metadata": {},
     "output_type": "execute_result"
    }
   ],
   "source": [
    "type(a)"
   ]
  },
  {
   "cell_type": "code",
   "execution_count": 5,
   "id": "df2d21a3-5054-4e12-83c3-40944e6d7647",
   "metadata": {},
   "outputs": [],
   "source": [
    "b=\"sudh\""
   ]
  },
  {
   "cell_type": "code",
   "execution_count": 6,
   "id": "12d8462b-ce22-4f65-ae39-8f195ec844dc",
   "metadata": {},
   "outputs": [
    {
     "data": {
      "text/plain": [
       "str"
      ]
     },
     "execution_count": 6,
     "metadata": {},
     "output_type": "execute_result"
    }
   ],
   "source": [
    "type(b)"
   ]
  },
  {
   "cell_type": "code",
   "execution_count": 7,
   "id": "7773e321-9a51-45a7-beaf-eabed4962538",
   "metadata": {},
   "outputs": [],
   "source": [
    "b='sudh'"
   ]
  },
  {
   "cell_type": "code",
   "execution_count": 8,
   "id": "55b8ad76-8611-4a46-b248-a4621145e47c",
   "metadata": {},
   "outputs": [
    {
     "data": {
      "text/plain": [
       "str"
      ]
     },
     "execution_count": 8,
     "metadata": {},
     "output_type": "execute_result"
    }
   ],
   "source": [
    "type(b)"
   ]
  },
  {
   "cell_type": "code",
   "execution_count": 9,
   "id": "8c5b810f-b5d7-48d4-9611-20298e75c2c2",
   "metadata": {},
   "outputs": [],
   "source": [
    "c= 45.6789"
   ]
  },
  {
   "cell_type": "code",
   "execution_count": 10,
   "id": "1f9c12cc-e948-4e49-8989-07cd1d9f688b",
   "metadata": {},
   "outputs": [
    {
     "data": {
      "text/plain": [
       "float"
      ]
     },
     "execution_count": 10,
     "metadata": {},
     "output_type": "execute_result"
    }
   ],
   "source": [
    "type(c)"
   ]
  },
  {
   "cell_type": "code",
   "execution_count": 11,
   "id": "b120d982-91d8-4200-9497-c01367ec4f7d",
   "metadata": {},
   "outputs": [],
   "source": [
    "sudh =3535"
   ]
  },
  {
   "cell_type": "code",
   "execution_count": 12,
   "id": "b0976749-5bd7-4c62-a479-b904fe4674b5",
   "metadata": {},
   "outputs": [
    {
     "data": {
      "text/plain": [
       "3535"
      ]
     },
     "execution_count": 12,
     "metadata": {},
     "output_type": "execute_result"
    }
   ],
   "source": [
    "sudh"
   ]
  },
  {
   "cell_type": "code",
   "execution_count": 13,
   "id": "ed8297ca-ce5d-4ce3-b194-2db4638e7668",
   "metadata": {},
   "outputs": [
    {
     "data": {
      "text/plain": [
       "int"
      ]
     },
     "execution_count": 13,
     "metadata": {},
     "output_type": "execute_result"
    }
   ],
   "source": [
    "type(sudh)"
   ]
  },
  {
   "cell_type": "code",
   "execution_count": 14,
   "id": "89e147ec-b1d0-400d-a500-2f72ad6e8904",
   "metadata": {},
   "outputs": [],
   "source": [
    "d = True"
   ]
  },
  {
   "cell_type": "code",
   "execution_count": 15,
   "id": "f2710796-75e6-4ba3-9fd2-85f8259f5b14",
   "metadata": {},
   "outputs": [
    {
     "data": {
      "text/plain": [
       "bool"
      ]
     },
     "execution_count": 15,
     "metadata": {},
     "output_type": "execute_result"
    }
   ],
   "source": [
    "type(d)"
   ]
  },
  {
   "cell_type": "code",
   "execution_count": 16,
   "id": "994e8cec-2ee9-4cdc-b0ea-ccc93efeff22",
   "metadata": {},
   "outputs": [],
   "source": [
    "e = False"
   ]
  },
  {
   "cell_type": "code",
   "execution_count": 17,
   "id": "9be6b044-4d78-4da8-b88a-75c83ae12c44",
   "metadata": {},
   "outputs": [
    {
     "data": {
      "text/plain": [
       "bool"
      ]
     },
     "execution_count": 17,
     "metadata": {},
     "output_type": "execute_result"
    }
   ],
   "source": [
    "type(e)"
   ]
  },
  {
   "cell_type": "code",
   "execution_count": 18,
   "id": "bd6b8113-3199-4cf5-b438-10ff87b2e911",
   "metadata": {},
   "outputs": [],
   "source": [
    "#internally True = 1 and False = 0"
   ]
  },
  {
   "cell_type": "code",
   "execution_count": 19,
   "id": "52e333d3-c513-4bd8-93bc-3996eaf076b8",
   "metadata": {},
   "outputs": [
    {
     "data": {
      "text/plain": [
       "1"
      ]
     },
     "execution_count": 19,
     "metadata": {},
     "output_type": "execute_result"
    }
   ],
   "source": [
    "True - False"
   ]
  },
  {
   "cell_type": "code",
   "execution_count": 20,
   "id": "4bf95e56-500a-4c30-87e1-53ceb705ec10",
   "metadata": {},
   "outputs": [
    {
     "data": {
      "text/plain": [
       "-1"
      ]
     },
     "execution_count": 20,
     "metadata": {},
     "output_type": "execute_result"
    }
   ],
   "source": [
    "False - True"
   ]
  },
  {
   "cell_type": "code",
   "execution_count": 21,
   "id": "394d610d-0d90-440a-814e-8e37a6580640",
   "metadata": {},
   "outputs": [
    {
     "data": {
      "text/plain": [
       "0"
      ]
     },
     "execution_count": 21,
     "metadata": {},
     "output_type": "execute_result"
    }
   ],
   "source": [
    "True * False"
   ]
  },
  {
   "cell_type": "code",
   "execution_count": 22,
   "id": "f08f09db-d515-4f67-8fcd-504fa1e6c314",
   "metadata": {},
   "outputs": [
    {
     "ename": "ZeroDivisionError",
     "evalue": "division by zero",
     "output_type": "error",
     "traceback": [
      "\u001b[0;31m---------------------------------------------------------------------------\u001b[0m",
      "\u001b[0;31mZeroDivisionError\u001b[0m                         Traceback (most recent call last)",
      "Cell \u001b[0;32mIn[22], line 1\u001b[0m\n\u001b[0;32m----> 1\u001b[0m \u001b[38;5;28;43;01mTrue\u001b[39;49;00m\u001b[38;5;241;43m/\u001b[39;49m\u001b[38;5;28;43;01mFalse\u001b[39;49;00m\n",
      "\u001b[0;31mZeroDivisionError\u001b[0m: division by zero"
     ]
    }
   ],
   "source": [
    "True/False"
   ]
  },
  {
   "cell_type": "code",
   "execution_count": 23,
   "id": "73f99e82-195f-44f6-a55a-0cced8b1f118",
   "metadata": {},
   "outputs": [],
   "source": [
    "f = 5+4j"
   ]
  },
  {
   "cell_type": "code",
   "execution_count": 24,
   "id": "7ce0ecb5-f8bb-4a79-a18a-0021f2768d87",
   "metadata": {},
   "outputs": [
    {
     "data": {
      "text/plain": [
       "complex"
      ]
     },
     "execution_count": 24,
     "metadata": {},
     "output_type": "execute_result"
    }
   ],
   "source": [
    "type(f)"
   ]
  },
  {
   "cell_type": "code",
   "execution_count": 25,
   "id": "c284b395-c740-4b26-a2e3-d2ceebb12fa0",
   "metadata": {},
   "outputs": [
    {
     "data": {
      "text/plain": [
       "complex"
      ]
     },
     "execution_count": 25,
     "metadata": {},
     "output_type": "execute_result"
    }
   ],
   "source": [
    "type(f)"
   ]
  },
  {
   "cell_type": "code",
   "execution_count": 26,
   "id": "68e2baf0-94f5-40e0-ac9c-e12c4c982563",
   "metadata": {},
   "outputs": [
    {
     "ename": "SyntaxError",
     "evalue": "invalid decimal literal (2263172436.py, line 1)",
     "output_type": "error",
     "traceback": [
      "\u001b[0;36m  Cell \u001b[0;32mIn[26], line 1\u001b[0;36m\u001b[0m\n\u001b[0;31m    e = 6+7i\u001b[0m\n\u001b[0m          ^\u001b[0m\n\u001b[0;31mSyntaxError\u001b[0m\u001b[0;31m:\u001b[0m invalid decimal literal\n"
     ]
    }
   ],
   "source": [
    "e = 6+7i"
   ]
  },
  {
   "cell_type": "code",
   "execution_count": 28,
   "id": "7af26f3e-2068-4329-910d-0492b8237153",
   "metadata": {},
   "outputs": [],
   "source": [
    "g = 7j"
   ]
  },
  {
   "cell_type": "code",
   "execution_count": 29,
   "id": "bdc00df6-b491-4730-b59d-129994b1397d",
   "metadata": {},
   "outputs": [
    {
     "data": {
      "text/plain": [
       "complex"
      ]
     },
     "execution_count": 29,
     "metadata": {},
     "output_type": "execute_result"
    }
   ],
   "source": [
    "type(g)"
   ]
  },
  {
   "cell_type": "code",
   "execution_count": 30,
   "id": "56024850-022e-4df4-ae7a-2c8ce2847df5",
   "metadata": {},
   "outputs": [
    {
     "ename": "SyntaxError",
     "evalue": "cannot assign to literal here. Maybe you meant '==' instead of '='? (217617900.py, line 1)",
     "output_type": "error",
     "traceback": [
      "\u001b[0;36m  Cell \u001b[0;32mIn[30], line 1\u001b[0;36m\u001b[0m\n\u001b[0;31m    345 = 5\u001b[0m\n\u001b[0m    ^\u001b[0m\n\u001b[0;31mSyntaxError\u001b[0m\u001b[0;31m:\u001b[0m cannot assign to literal here. Maybe you meant '==' instead of '='?\n"
     ]
    }
   ],
   "source": [
    "345 = 5"
   ]
  },
  {
   "cell_type": "code",
   "execution_count": 31,
   "id": "cb91ef2b-ca9d-4ca0-be5e-af87fdceb0ab",
   "metadata": {},
   "outputs": [
    {
     "ename": "SyntaxError",
     "evalue": "invalid decimal literal (3445766998.py, line 1)",
     "output_type": "error",
     "traceback": [
      "\u001b[0;36m  Cell \u001b[0;32mIn[31], line 1\u001b[0;36m\u001b[0m\n\u001b[0;31m    45gh = 234\u001b[0m\n\u001b[0m     ^\u001b[0m\n\u001b[0;31mSyntaxError\u001b[0m\u001b[0;31m:\u001b[0m invalid decimal literal\n"
     ]
    }
   ],
   "source": [
    "45gh = 234"
   ]
  },
  {
   "cell_type": "code",
   "execution_count": 32,
   "id": "abb07bbe-abad-47e5-a6c4-d574d70d9c08",
   "metadata": {},
   "outputs": [
    {
     "data": {
      "text/plain": [
       "False"
      ]
     },
     "execution_count": 32,
     "metadata": {},
     "output_type": "execute_result"
    }
   ],
   "source": [
    "345==5"
   ]
  },
  {
   "cell_type": "code",
   "execution_count": 33,
   "id": "80f1adfb-62f1-4da1-b87f-e276275b9b6f",
   "metadata": {},
   "outputs": [],
   "source": [
    "#45=56"
   ]
  },
  {
   "cell_type": "code",
   "execution_count": 34,
   "id": "fb5a36d8-07ef-4285-9a5e-dfb62cf06e9f",
   "metadata": {},
   "outputs": [
    {
     "ename": "SyntaxError",
     "evalue": "invalid syntax (3665463452.py, line 1)",
     "output_type": "error",
     "traceback": [
      "\u001b[0;36m  Cell \u001b[0;32mIn[34], line 1\u001b[0;36m\u001b[0m\n\u001b[0;31m    $45 = 23\u001b[0m\n\u001b[0m    ^\u001b[0m\n\u001b[0;31mSyntaxError\u001b[0m\u001b[0;31m:\u001b[0m invalid syntax\n"
     ]
    }
   ],
   "source": [
    "$45 = 23"
   ]
  },
  {
   "cell_type": "code",
   "execution_count": 35,
   "id": "af4d02db-0017-46a8-8896-c113d3423207",
   "metadata": {},
   "outputs": [],
   "source": [
    "#variable not started with special chracter"
   ]
  },
  {
   "cell_type": "code",
   "execution_count": 36,
   "id": "22520a6e-444f-478d-a12e-614297c093f6",
   "metadata": {},
   "outputs": [],
   "source": [
    "_a = 67"
   ]
  },
  {
   "cell_type": "code",
   "execution_count": 37,
   "id": "10ad0bf7-8453-44da-9985-80ba6bbaf530",
   "metadata": {},
   "outputs": [
    {
     "name": "stderr",
     "output_type": "stream",
     "text": [
      "UsageError: Line magic function `%a` not found.\n"
     ]
    }
   ],
   "source": [
    "%a = 45"
   ]
  },
  {
   "cell_type": "code",
   "execution_count": 38,
   "id": "da983525-0a37-45bc-b3e4-c722c9bce0bb",
   "metadata": {},
   "outputs": [],
   "source": [
    "_g = 5"
   ]
  },
  {
   "cell_type": "code",
   "execution_count": 39,
   "id": "69c8a57a-c260-4f08-b78f-1799bef20b62",
   "metadata": {},
   "outputs": [
    {
     "data": {
      "text/plain": [
       "5"
      ]
     },
     "execution_count": 39,
     "metadata": {},
     "output_type": "execute_result"
    }
   ],
   "source": [
    "_g"
   ]
  },
  {
   "cell_type": "code",
   "execution_count": 40,
   "id": "c64ea24d-de2e-49d5-9fbc-40e36fb1a3b4",
   "metadata": {},
   "outputs": [
    {
     "data": {
      "text/plain": [
       "False"
      ]
     },
     "execution_count": 40,
     "metadata": {},
     "output_type": "execute_result"
    }
   ],
   "source": [
    "e"
   ]
  },
  {
   "cell_type": "code",
   "execution_count": 41,
   "id": "b8490c21-754a-461f-a437-c855e1963b76",
   "metadata": {},
   "outputs": [],
   "source": [
    "e = 6+7j"
   ]
  },
  {
   "cell_type": "code",
   "execution_count": 42,
   "id": "b9bf4cf5-a3b1-48be-8726-b3a5852d9907",
   "metadata": {},
   "outputs": [
    {
     "data": {
      "text/plain": [
       "(6+7j)"
      ]
     },
     "execution_count": 42,
     "metadata": {},
     "output_type": "execute_result"
    }
   ],
   "source": [
    "e"
   ]
  },
  {
   "cell_type": "code",
   "execution_count": 43,
   "id": "2700312c-b373-4a38-ba0e-96ccb06887b1",
   "metadata": {},
   "outputs": [
    {
     "data": {
      "text/plain": [
       "6.0"
      ]
     },
     "execution_count": 43,
     "metadata": {},
     "output_type": "execute_result"
    }
   ],
   "source": [
    "e.real"
   ]
  },
  {
   "cell_type": "code",
   "execution_count": 46,
   "id": "e875cf90-1ac5-4d11-be97-2b822bff33ac",
   "metadata": {},
   "outputs": [
    {
     "data": {
      "text/plain": [
       "7.0"
      ]
     },
     "execution_count": 46,
     "metadata": {},
     "output_type": "execute_result"
    }
   ],
   "source": [
    "e.imag"
   ]
  },
  {
   "cell_type": "code",
   "execution_count": 47,
   "id": "e9196556-71ef-47a0-88e9-2c6e37689195",
   "metadata": {},
   "outputs": [],
   "source": [
    "#mutable and imutable objects"
   ]
  },
  {
   "cell_type": "code",
   "execution_count": 48,
   "id": "8fa8eee8-6130-4683-b1c7-839b531b649d",
   "metadata": {},
   "outputs": [],
   "source": [
    "s = 'sudh'"
   ]
  },
  {
   "cell_type": "code",
   "execution_count": 49,
   "id": "87ac46ff-7179-4b2b-b53f-ffe338c7fd89",
   "metadata": {},
   "outputs": [],
   "source": [
    "s1 = 'sudhansu'"
   ]
  },
  {
   "cell_type": "code",
   "execution_count": 50,
   "id": "59d324d4-89c9-481b-89fd-d609cba419f1",
   "metadata": {},
   "outputs": [
    {
     "data": {
      "text/plain": [
       "str"
      ]
     },
     "execution_count": 50,
     "metadata": {},
     "output_type": "execute_result"
    }
   ],
   "source": [
    "type(s)"
   ]
  },
  {
   "cell_type": "code",
   "execution_count": 51,
   "id": "8824be67-2221-404d-8a5e-37f9a2c791e5",
   "metadata": {},
   "outputs": [
    {
     "data": {
      "text/plain": [
       "str"
      ]
     },
     "execution_count": 51,
     "metadata": {},
     "output_type": "execute_result"
    }
   ],
   "source": [
    "type(s1)"
   ]
  },
  {
   "cell_type": "code",
   "execution_count": 52,
   "id": "de4b5bde-453e-4571-9fec-ee7e723e6447",
   "metadata": {},
   "outputs": [],
   "source": [
    "l = [2,3,4,5,6,\"sudh\",3+7j,True,34.56]"
   ]
  },
  {
   "cell_type": "code",
   "execution_count": 53,
   "id": "19167c45-a974-4d64-be37-61fd19033025",
   "metadata": {},
   "outputs": [
    {
     "data": {
      "text/plain": [
       "list"
      ]
     },
     "execution_count": 53,
     "metadata": {},
     "output_type": "execute_result"
    }
   ],
   "source": [
    "type(l)"
   ]
  },
  {
   "cell_type": "code",
   "execution_count": 54,
   "id": "bda49b3f-e8b7-4e95-9994-4dab8ba47403",
   "metadata": {},
   "outputs": [],
   "source": [
    "# [] refers to list"
   ]
  },
  {
   "cell_type": "code",
   "execution_count": 57,
   "id": "0c7031c9-b8c0-42fc-8f4b-5cffdad51f9b",
   "metadata": {},
   "outputs": [],
   "source": [
    "# sudh:-     s=0  u=1 d=2 h=3      \n",
    "#    s=-4 u=-3 d=-2 h=-1"
   ]
  },
  {
   "cell_type": "code",
   "execution_count": 58,
   "id": "83c77941-eb73-4700-9a6b-2b6ec50cc492",
   "metadata": {},
   "outputs": [
    {
     "data": {
      "text/plain": [
       "'sudh'"
      ]
     },
     "execution_count": 58,
     "metadata": {},
     "output_type": "execute_result"
    }
   ],
   "source": [
    "s"
   ]
  },
  {
   "cell_type": "code",
   "execution_count": 59,
   "id": "eb790422-18b5-4b72-9ba8-9ad29beb1cb1",
   "metadata": {},
   "outputs": [
    {
     "data": {
      "text/plain": [
       "'s'"
      ]
     },
     "execution_count": 59,
     "metadata": {},
     "output_type": "execute_result"
    }
   ],
   "source": [
    "s[0]"
   ]
  },
  {
   "cell_type": "code",
   "execution_count": 60,
   "id": "d3ce7c0d-d674-4f7a-bbc4-f701b16d709b",
   "metadata": {},
   "outputs": [
    {
     "data": {
      "text/plain": [
       "'d'"
      ]
     },
     "execution_count": 60,
     "metadata": {},
     "output_type": "execute_result"
    }
   ],
   "source": [
    "s[2]"
   ]
  },
  {
   "cell_type": "code",
   "execution_count": 61,
   "id": "4fb74562-03c2-439c-8482-0e05f76a17ce",
   "metadata": {},
   "outputs": [
    {
     "data": {
      "text/plain": [
       "[2, 3, 4, 5, 6, 'sudh', (3+7j), True, 34.56]"
      ]
     },
     "execution_count": 61,
     "metadata": {},
     "output_type": "execute_result"
    }
   ],
   "source": [
    "l"
   ]
  },
  {
   "cell_type": "code",
   "execution_count": 62,
   "id": "dee14d12-2bc8-41cd-a717-28e5ca2b2b2e",
   "metadata": {},
   "outputs": [],
   "source": [
    "#all elements get index in this list"
   ]
  },
  {
   "cell_type": "code",
   "execution_count": 63,
   "id": "57946b1c-cdee-4c34-8d40-25a6701b138b",
   "metadata": {},
   "outputs": [],
   "source": [
    "#in this l    2=0  3=1 4=2 5=3 6=4 'sudh'=5 (3+7j)=6 True=7 34.56=8\n",
    "#  its reverse  -9  -8  -7  -6  -5       -4      -3      -2      -1"
   ]
  },
  {
   "cell_type": "code",
   "execution_count": 64,
   "id": "31182c63-2064-44fb-a006-e56f3954c1f3",
   "metadata": {},
   "outputs": [
    {
     "data": {
      "text/plain": [
       "34.56"
      ]
     },
     "execution_count": 64,
     "metadata": {},
     "output_type": "execute_result"
    }
   ],
   "source": [
    "l[8]"
   ]
  },
  {
   "cell_type": "code",
   "execution_count": 65,
   "id": "64fbbda6-c92a-4c94-9b5b-18a06e43842d",
   "metadata": {},
   "outputs": [
    {
     "data": {
      "text/plain": [
       "'sudh'"
      ]
     },
     "execution_count": 65,
     "metadata": {},
     "output_type": "execute_result"
    }
   ],
   "source": [
    "l[-4]"
   ]
  },
  {
   "cell_type": "code",
   "execution_count": 67,
   "id": "1022f1f7-1110-4412-ba6f-0866ed2f46aa",
   "metadata": {},
   "outputs": [],
   "source": [
    "l[1] = 300"
   ]
  },
  {
   "cell_type": "code",
   "execution_count": 68,
   "id": "195e5966-a633-4c98-b13b-7a9ca20e129e",
   "metadata": {},
   "outputs": [
    {
     "data": {
      "text/plain": [
       "[2, 300, 4, 5, 6, 'sudh', (3+7j), True, 34.56]"
      ]
     },
     "execution_count": 68,
     "metadata": {},
     "output_type": "execute_result"
    }
   ],
   "source": [
    "l"
   ]
  },
  {
   "cell_type": "code",
   "execution_count": 69,
   "id": "055902b4-4514-4cc7-aa3b-2f396958ff03",
   "metadata": {},
   "outputs": [],
   "source": [
    "#its called mutable"
   ]
  },
  {
   "cell_type": "code",
   "execution_count": 71,
   "id": "af15b738-601d-4e99-935d-f47b23bb7e91",
   "metadata": {},
   "outputs": [],
   "source": [
    "l[4] = \"pwskill\""
   ]
  },
  {
   "cell_type": "code",
   "execution_count": 72,
   "id": "ea0f286e-0b9e-4261-8109-79d3dc1d8128",
   "metadata": {},
   "outputs": [
    {
     "data": {
      "text/plain": [
       "[2, 300, 4, 5, 'pwskill', 'sudh', (3+7j), True, 34.56]"
      ]
     },
     "execution_count": 72,
     "metadata": {},
     "output_type": "execute_result"
    }
   ],
   "source": [
    "l"
   ]
  },
  {
   "cell_type": "code",
   "execution_count": 73,
   "id": "1cb7fa8c-d352-4223-850e-dc7775f1b610",
   "metadata": {},
   "outputs": [
    {
     "data": {
      "text/plain": [
       "'sudh'"
      ]
     },
     "execution_count": 73,
     "metadata": {},
     "output_type": "execute_result"
    }
   ],
   "source": [
    "s"
   ]
  },
  {
   "cell_type": "code",
   "execution_count": 74,
   "id": "be7bf307-6353-43c1-8174-2891524be99e",
   "metadata": {},
   "outputs": [
    {
     "ename": "TypeError",
     "evalue": "'str' object does not support item assignment",
     "output_type": "error",
     "traceback": [
      "\u001b[0;31m---------------------------------------------------------------------------\u001b[0m",
      "\u001b[0;31mTypeError\u001b[0m                                 Traceback (most recent call last)",
      "Cell \u001b[0;32mIn[74], line 1\u001b[0m\n\u001b[0;32m----> 1\u001b[0m \u001b[43ms\u001b[49m\u001b[43m[\u001b[49m\u001b[38;5;241;43m1\u001b[39;49m\u001b[43m]\u001b[49m \u001b[38;5;241m=\u001b[39m \u001b[38;5;124m\"\u001b[39m\u001b[38;5;124ma\u001b[39m\u001b[38;5;124m\"\u001b[39m\n",
      "\u001b[0;31mTypeError\u001b[0m: 'str' object does not support item assignment"
     ]
    }
   ],
   "source": [
    "s[1] = \"a\""
   ]
  },
  {
   "cell_type": "code",
   "execution_count": 75,
   "id": "6bb8681d-d87a-46b5-99a3-d9c9701a1b3d",
   "metadata": {},
   "outputs": [],
   "source": [
    "#its called imutable"
   ]
  },
  {
   "cell_type": "code",
   "execution_count": 78,
   "id": "5fc7b9f2-6b6b-49a5-b41b-8988beeaf104",
   "metadata": {},
   "outputs": [],
   "source": [
    "# string are imutable\n",
    "# list are mutable"
   ]
  },
  {
   "cell_type": "code",
   "execution_count": 79,
   "id": "fa250cb8-837b-4c03-89eb-b93b03365d08",
   "metadata": {},
   "outputs": [],
   "source": [
    "s = 'sadh'"
   ]
  },
  {
   "cell_type": "code",
   "execution_count": 80,
   "id": "1cbdfb10-87a2-40af-a6ef-a654e78b2950",
   "metadata": {},
   "outputs": [
    {
     "data": {
      "text/plain": [
       "'sadh'"
      ]
     },
     "execution_count": 80,
     "metadata": {},
     "output_type": "execute_result"
    }
   ],
   "source": [
    "s"
   ]
  },
  {
   "cell_type": "code",
   "execution_count": 81,
   "id": "7e5d50b7-4a3f-45ea-a2de-a3fd2acb317f",
   "metadata": {},
   "outputs": [],
   "source": [
    "#at a particular index i say   another data type can be "
   ]
  },
  {
   "cell_type": "code",
   "execution_count": 83,
   "id": "fe7122df-61b6-45d0-87b0-569db4d92b15",
   "metadata": {},
   "outputs": [],
   "source": [
    "#operators class"
   ]
  },
  {
   "cell_type": "code",
   "execution_count": 84,
   "id": "a174e891-e138-49f9-a425-7f0bdd14493e",
   "metadata": {},
   "outputs": [
    {
     "data": {
      "text/plain": [
       "3"
      ]
     },
     "execution_count": 84,
     "metadata": {},
     "output_type": "execute_result"
    }
   ],
   "source": [
    " 1 + 2"
   ]
  },
  {
   "cell_type": "code",
   "execution_count": 85,
   "id": "bd960be7-0fa7-452c-84a6-8d65e6f69886",
   "metadata": {},
   "outputs": [
    {
     "data": {
      "text/plain": [
       "-1"
      ]
     },
     "execution_count": 85,
     "metadata": {},
     "output_type": "execute_result"
    }
   ],
   "source": [
    "1 - 2"
   ]
  },
  {
   "cell_type": "code",
   "execution_count": 86,
   "id": "bd465a72-428a-4378-a8a7-c814890ec602",
   "metadata": {},
   "outputs": [],
   "source": [
    "#archimetic operator"
   ]
  },
  {
   "cell_type": "code",
   "execution_count": 87,
   "id": "ae704dfa-4a16-478a-a6db-7daf347ca633",
   "metadata": {},
   "outputs": [
    {
     "data": {
      "text/plain": [
       "2"
      ]
     },
     "execution_count": 87,
     "metadata": {},
     "output_type": "execute_result"
    }
   ],
   "source": [
    "1*2"
   ]
  },
  {
   "cell_type": "code",
   "execution_count": 88,
   "id": "0d26c4f1-73d8-4849-b620-dc01248eb310",
   "metadata": {},
   "outputs": [
    {
     "data": {
      "text/plain": [
       "0.5"
      ]
     },
     "execution_count": 88,
     "metadata": {},
     "output_type": "execute_result"
    }
   ],
   "source": [
    "1/2"
   ]
  },
  {
   "cell_type": "code",
   "execution_count": 89,
   "id": "c68b95a3-0785-487c-8856-a235993008a3",
   "metadata": {},
   "outputs": [
    {
     "data": {
      "text/plain": [
       "1"
      ]
     },
     "execution_count": 89,
     "metadata": {},
     "output_type": "execute_result"
    }
   ],
   "source": [
    "1%4"
   ]
  },
  {
   "cell_type": "code",
   "execution_count": 90,
   "id": "859cf79d-82b7-43d7-a68b-033aca197974",
   "metadata": {},
   "outputs": [
    {
     "data": {
      "text/plain": [
       "1"
      ]
     },
     "execution_count": 90,
     "metadata": {},
     "output_type": "execute_result"
    }
   ],
   "source": [
    "5%4"
   ]
  },
  {
   "cell_type": "code",
   "execution_count": 91,
   "id": "a598c86c-43c3-4e30-a6a4-77f7a5ea15d0",
   "metadata": {},
   "outputs": [],
   "source": [
    "# %refer to remainder after division"
   ]
  },
  {
   "cell_type": "code",
   "execution_count": 92,
   "id": "32ec7bf7-8f0b-442f-b63a-75ee0c93ce48",
   "metadata": {},
   "outputs": [
    {
     "data": {
      "text/plain": [
       "1"
      ]
     },
     "execution_count": 92,
     "metadata": {},
     "output_type": "execute_result"
    }
   ],
   "source": [
    "5//4"
   ]
  },
  {
   "cell_type": "code",
   "execution_count": 93,
   "id": "9176d1c2-7e26-4eb0-9b78-3a58dd5f2aa2",
   "metadata": {},
   "outputs": [],
   "source": [
    "# // called division flour"
   ]
  },
  {
   "cell_type": "code",
   "execution_count": 94,
   "id": "20885779-0d00-4d1d-a481-73e03c9be126",
   "metadata": {},
   "outputs": [
    {
     "data": {
      "text/plain": [
       "1"
      ]
     },
     "execution_count": 94,
     "metadata": {},
     "output_type": "execute_result"
    }
   ],
   "source": [
    "1**3"
   ]
  },
  {
   "cell_type": "code",
   "execution_count": 95,
   "id": "76d1a3f6-91ae-4292-9101-fbfe7e9f28a2",
   "metadata": {},
   "outputs": [
    {
     "data": {
      "text/plain": [
       "8"
      ]
     },
     "execution_count": 95,
     "metadata": {},
     "output_type": "execute_result"
    }
   ],
   "source": [
    "2**3"
   ]
  },
  {
   "cell_type": "code",
   "execution_count": 96,
   "id": "c0ddc4f1-1e21-4dfe-91ac-b231d3dda232",
   "metadata": {},
   "outputs": [],
   "source": [
    "#power wala operator **   \n",
    "# ex 2**3     means 2*2*2"
   ]
  },
  {
   "cell_type": "code",
   "execution_count": 97,
   "id": "d21ea2e8-d450-4873-a900-c9020d1ddf94",
   "metadata": {},
   "outputs": [
    {
     "data": {
      "text/plain": [
       "False"
      ]
     },
     "execution_count": 97,
     "metadata": {},
     "output_type": "execute_result"
    }
   ],
   "source": [
    "1>2"
   ]
  },
  {
   "cell_type": "code",
   "execution_count": 98,
   "id": "1c984b05-7f50-4209-b92e-24a213debdd5",
   "metadata": {},
   "outputs": [
    {
     "data": {
      "text/plain": [
       "True"
      ]
     },
     "execution_count": 98,
     "metadata": {},
     "output_type": "execute_result"
    }
   ],
   "source": [
    "1<2"
   ]
  },
  {
   "cell_type": "code",
   "execution_count": 100,
   "id": "be771346-db6f-43a9-bfd6-4edf106f7afe",
   "metadata": {},
   "outputs": [],
   "source": [
    "#comaprision operator"
   ]
  },
  {
   "cell_type": "code",
   "execution_count": 101,
   "id": "1bacf239-f1f5-439b-b8eb-fe58a501f740",
   "metadata": {},
   "outputs": [
    {
     "data": {
      "text/plain": [
       "False"
      ]
     },
     "execution_count": 101,
     "metadata": {},
     "output_type": "execute_result"
    }
   ],
   "source": [
    "1==2"
   ]
  },
  {
   "cell_type": "code",
   "execution_count": 102,
   "id": "bd4ae6f5-ac9f-42fd-8fd3-ad29c687666f",
   "metadata": {},
   "outputs": [],
   "source": [
    "# == use for compare"
   ]
  },
  {
   "cell_type": "code",
   "execution_count": 103,
   "id": "bf0ba038-64f7-43af-a241-7bfe0901c3a6",
   "metadata": {},
   "outputs": [
    {
     "data": {
      "text/plain": [
       "True"
      ]
     },
     "execution_count": 103,
     "metadata": {},
     "output_type": "execute_result"
    }
   ],
   "source": [
    "1==1"
   ]
  },
  {
   "cell_type": "code",
   "execution_count": 104,
   "id": "9fdf9d45-4bb0-4129-8521-fb779ba39b08",
   "metadata": {},
   "outputs": [
    {
     "data": {
      "text/plain": [
       "True"
      ]
     },
     "execution_count": 104,
     "metadata": {},
     "output_type": "execute_result"
    }
   ],
   "source": [
    "1 != 2"
   ]
  },
  {
   "cell_type": "code",
   "execution_count": 105,
   "id": "a1a2b918-5d63-4f59-b8df-9f0ef08598e7",
   "metadata": {},
   "outputs": [
    {
     "data": {
      "text/plain": [
       "False"
      ]
     },
     "execution_count": 105,
     "metadata": {},
     "output_type": "execute_result"
    }
   ],
   "source": [
    "1 != 1"
   ]
  },
  {
   "cell_type": "code",
   "execution_count": 106,
   "id": "38e03784-b613-4359-8ebf-9928e903c69c",
   "metadata": {},
   "outputs": [
    {
     "ename": "SyntaxError",
     "evalue": "cannot assign to literal here. Maybe you meant '==' instead of '='? (2379518652.py, line 1)",
     "output_type": "error",
     "traceback": [
      "\u001b[0;36m  Cell \u001b[0;32mIn[106], line 1\u001b[0;36m\u001b[0m\n\u001b[0;31m    1 =get_ipython().getoutput(' 1')\u001b[0m\n\u001b[0m    ^\u001b[0m\n\u001b[0;31mSyntaxError\u001b[0m\u001b[0;31m:\u001b[0m cannot assign to literal here. Maybe you meant '==' instead of '='?\n"
     ]
    }
   ],
   "source": [
    "1 =! 1"
   ]
  },
  {
   "cell_type": "code",
   "execution_count": 107,
   "id": "b87c462b-f94f-4b94-b09d-50fa517ab6df",
   "metadata": {},
   "outputs": [
    {
     "data": {
      "text/plain": [
       "True"
      ]
     },
     "execution_count": 107,
     "metadata": {},
     "output_type": "execute_result"
    }
   ],
   "source": [
    "2>= 1"
   ]
  },
  {
   "cell_type": "code",
   "execution_count": 108,
   "id": "63fbb93b-fcad-4272-adea-f672a733273b",
   "metadata": {},
   "outputs": [
    {
     "data": {
      "text/plain": [
       "False"
      ]
     },
     "execution_count": 108,
     "metadata": {},
     "output_type": "execute_result"
    }
   ],
   "source": [
    "2>2"
   ]
  },
  {
   "cell_type": "code",
   "execution_count": 109,
   "id": "ed817f60-01d0-4c48-952f-82ce3438361d",
   "metadata": {},
   "outputs": [
    {
     "data": {
      "text/plain": [
       "True"
      ]
     },
     "execution_count": 109,
     "metadata": {},
     "output_type": "execute_result"
    }
   ],
   "source": [
    "2>=2"
   ]
  },
  {
   "cell_type": "code",
   "execution_count": 110,
   "id": "515d47b3-41aa-417d-8992-faad0a2b7334",
   "metadata": {},
   "outputs": [
    {
     "data": {
      "text/plain": [
       "False"
      ]
     },
     "execution_count": 110,
     "metadata": {},
     "output_type": "execute_result"
    }
   ],
   "source": [
    "2<2"
   ]
  },
  {
   "cell_type": "code",
   "execution_count": 111,
   "id": "ee8ea697-51d3-4b68-83a2-ebad3dd2691b",
   "metadata": {},
   "outputs": [
    {
     "data": {
      "text/plain": [
       "True"
      ]
     },
     "execution_count": 111,
     "metadata": {},
     "output_type": "execute_result"
    }
   ],
   "source": [
    "2 <=2"
   ]
  },
  {
   "cell_type": "code",
   "execution_count": 112,
   "id": "c9e7833e-f976-4180-a60c-2564fe35aaed",
   "metadata": {},
   "outputs": [
    {
     "ename": "SyntaxError",
     "evalue": "cannot assign to literal (3072838079.py, line 1)",
     "output_type": "error",
     "traceback": [
      "\u001b[0;36m  Cell \u001b[0;32mIn[112], line 1\u001b[0;36m\u001b[0m\n\u001b[0;31m    2 =<3\u001b[0m\n\u001b[0m    ^\u001b[0m\n\u001b[0;31mSyntaxError\u001b[0m\u001b[0;31m:\u001b[0m cannot assign to literal\n"
     ]
    }
   ],
   "source": [
    "2 =<3"
   ]
  },
  {
   "cell_type": "code",
   "execution_count": 113,
   "id": "fa7443c7-01ef-4126-a082-065de0ce34f9",
   "metadata": {},
   "outputs": [
    {
     "data": {
      "text/plain": [
       "True"
      ]
     },
     "execution_count": 113,
     "metadata": {},
     "output_type": "execute_result"
    }
   ],
   "source": [
    "True and True"
   ]
  },
  {
   "cell_type": "code",
   "execution_count": 115,
   "id": "bf638e1a-dc4d-4c60-be5d-17ac1398721f",
   "metadata": {},
   "outputs": [],
   "source": [
    "# and, or is logical operator"
   ]
  },
  {
   "cell_type": "code",
   "execution_count": 116,
   "id": "5f707613-20d2-4c06-9e91-81926af430e4",
   "metadata": {},
   "outputs": [
    {
     "data": {
      "text/plain": [
       "False"
      ]
     },
     "execution_count": 116,
     "metadata": {},
     "output_type": "execute_result"
    }
   ],
   "source": [
    "True and False"
   ]
  },
  {
   "cell_type": "code",
   "execution_count": 117,
   "id": "51599717-d176-46b8-a6f9-a3b6b4add5e3",
   "metadata": {},
   "outputs": [
    {
     "data": {
      "text/plain": [
       "0"
      ]
     },
     "execution_count": 117,
     "metadata": {},
     "output_type": "execute_result"
    }
   ],
   "source": [
    "1 and 0"
   ]
  },
  {
   "cell_type": "code",
   "execution_count": 118,
   "id": "2b88e8a1-8e40-4258-876c-69502853c26e",
   "metadata": {},
   "outputs": [
    {
     "data": {
      "text/plain": [
       "False"
      ]
     },
     "execution_count": 118,
     "metadata": {},
     "output_type": "execute_result"
    }
   ],
   "source": [
    "not True "
   ]
  },
  {
   "cell_type": "code",
   "execution_count": 119,
   "id": "d236af36-f868-4234-b0e4-f9e88503844f",
   "metadata": {},
   "outputs": [
    {
     "data": {
      "text/plain": [
       "False"
      ]
     },
     "execution_count": 119,
     "metadata": {},
     "output_type": "execute_result"
    }
   ],
   "source": [
    "not 1"
   ]
  },
  {
   "cell_type": "code",
   "execution_count": 120,
   "id": "def6eedd-271e-4ac3-9fa4-9f85eaf06c76",
   "metadata": {},
   "outputs": [
    {
     "data": {
      "text/plain": [
       "1"
      ]
     },
     "execution_count": 120,
     "metadata": {},
     "output_type": "execute_result"
    }
   ],
   "source": [
    "1 or 0"
   ]
  },
  {
   "cell_type": "code",
   "execution_count": 121,
   "id": "6ecf9d15-f508-4f2a-815b-34bf044f8f01",
   "metadata": {},
   "outputs": [
    {
     "data": {
      "text/plain": [
       "True"
      ]
     },
     "execution_count": 121,
     "metadata": {},
     "output_type": "execute_result"
    }
   ],
   "source": [
    "True or False"
   ]
  },
  {
   "cell_type": "code",
   "execution_count": 122,
   "id": "3a0f946b-e916-48d1-b8f5-f72761397a99",
   "metadata": {},
   "outputs": [
    {
     "data": {
      "text/plain": [
       "False"
      ]
     },
     "execution_count": 122,
     "metadata": {},
     "output_type": "execute_result"
    }
   ],
   "source": [
    "False or False"
   ]
  },
  {
   "cell_type": "code",
   "execution_count": 125,
   "id": "30e68913-3003-49a3-9474-06413d728719",
   "metadata": {},
   "outputs": [],
   "source": [
    "#bit(&) wise operator"
   ]
  },
  {
   "cell_type": "code",
   "execution_count": 124,
   "id": "12a56b2a-a8d0-4a7d-8735-d7312c2dc492",
   "metadata": {},
   "outputs": [
    {
     "data": {
      "text/plain": [
       "0"
      ]
     },
     "execution_count": 124,
     "metadata": {},
     "output_type": "execute_result"
    }
   ],
   "source": [
    "10 & 4"
   ]
  },
  {
   "cell_type": "code",
   "execution_count": 126,
   "id": "83ab918e-5f81-495e-a270-de2fe403335d",
   "metadata": {},
   "outputs": [
    {
     "data": {
      "text/plain": [
       "'0b1010'"
      ]
     },
     "execution_count": 126,
     "metadata": {},
     "output_type": "execute_result"
    }
   ],
   "source": [
    "bin(10)"
   ]
  },
  {
   "cell_type": "code",
   "execution_count": 127,
   "id": "649b7ba9-f0c7-43c6-9a53-5836d897f5c0",
   "metadata": {},
   "outputs": [
    {
     "data": {
      "text/plain": [
       "'0b100'"
      ]
     },
     "execution_count": 127,
     "metadata": {},
     "output_type": "execute_result"
    }
   ],
   "source": [
    "bin (4)"
   ]
  },
  {
   "cell_type": "code",
   "execution_count": 129,
   "id": "6582e1ed-c2f3-4003-9798-6420a48a97bf",
   "metadata": {},
   "outputs": [
    {
     "ename": "IndentationError",
     "evalue": "unexpected indent (1620362791.py, line 2)",
     "output_type": "error",
     "traceback": [
      "\u001b[0;36m  Cell \u001b[0;32mIn[129], line 2\u001b[0;36m\u001b[0m\n\u001b[0;31m    1    0   = 0\u001b[0m\n\u001b[0m    ^\u001b[0m\n\u001b[0;31mIndentationError\u001b[0m\u001b[0;31m:\u001b[0m unexpected indent\n"
     ]
    }
   ],
   "source": [
    "#####   &\n",
    "     1    0   = 0\n",
    "     0    1   = 0\n",
    "     1    0   = 0\n",
    "     0    0   = 0"
   ]
  },
  {
   "cell_type": "code",
   "execution_count": 130,
   "id": "5d06ab4d-d431-4ae2-bcb4-a434b199d8d5",
   "metadata": {},
   "outputs": [
    {
     "data": {
      "text/plain": [
       "'0b0'"
      ]
     },
     "execution_count": 130,
     "metadata": {},
     "output_type": "execute_result"
    }
   ],
   "source": [
    "bin(0)"
   ]
  },
  {
   "cell_type": "code",
   "execution_count": 131,
   "id": "a42eb1ae-bd52-4b6a-9836-5f8c18d1fffe",
   "metadata": {},
   "outputs": [
    {
     "data": {
      "text/plain": [
       "20"
      ]
     },
     "execution_count": 131,
     "metadata": {},
     "output_type": "execute_result"
    }
   ],
   "source": [
    "23 & 20"
   ]
  },
  {
   "cell_type": "code",
   "execution_count": 132,
   "id": "ece0f62d-31b5-4293-9d8f-841f20541328",
   "metadata": {},
   "outputs": [
    {
     "data": {
      "text/plain": [
       "'0b10111'"
      ]
     },
     "execution_count": 132,
     "metadata": {},
     "output_type": "execute_result"
    }
   ],
   "source": [
    "bin(23)"
   ]
  },
  {
   "cell_type": "code",
   "execution_count": 133,
   "id": "0a58ce15-b3e0-4be3-8eb1-526bac4a4990",
   "metadata": {},
   "outputs": [
    {
     "data": {
      "text/plain": [
       "'0b10100'"
      ]
     },
     "execution_count": 133,
     "metadata": {},
     "output_type": "execute_result"
    }
   ],
   "source": [
    "bin(20)"
   ]
  },
  {
   "cell_type": "code",
   "execution_count": 134,
   "id": "392fce9c-5a69-4c9e-9b93-8b7bf6b39ca3",
   "metadata": {},
   "outputs": [
    {
     "data": {
      "text/plain": [
       "'0b10100'"
      ]
     },
     "execution_count": 134,
     "metadata": {},
     "output_type": "execute_result"
    }
   ],
   "source": [
    "bin(20)"
   ]
  },
  {
   "cell_type": "code",
   "execution_count": 135,
   "id": "089e42bb-8ecf-4fa6-8d69-5a0dcb19fac6",
   "metadata": {},
   "outputs": [
    {
     "data": {
      "text/plain": [
       "15"
      ]
     },
     "execution_count": 135,
     "metadata": {},
     "output_type": "execute_result"
    }
   ],
   "source": [
    "11 | 6"
   ]
  },
  {
   "cell_type": "code",
   "execution_count": 136,
   "id": "9aeacf3b-b0d4-43af-adb9-356eadaf9cc6",
   "metadata": {},
   "outputs": [
    {
     "data": {
      "text/plain": [
       "'0b1011'"
      ]
     },
     "execution_count": 136,
     "metadata": {},
     "output_type": "execute_result"
    }
   ],
   "source": [
    "bin(11)"
   ]
  },
  {
   "cell_type": "code",
   "execution_count": 137,
   "id": "c2719d20-f361-403e-90c6-79f16b43c886",
   "metadata": {},
   "outputs": [
    {
     "data": {
      "text/plain": [
       "'0b110'"
      ]
     },
     "execution_count": 137,
     "metadata": {},
     "output_type": "execute_result"
    }
   ],
   "source": [
    "bin(6)"
   ]
  },
  {
   "cell_type": "code",
   "execution_count": 138,
   "id": "fbd2d3b4-a390-441d-a5d6-2af53d4c1e79",
   "metadata": {},
   "outputs": [],
   "source": [
    "# | this refers to 'or'operation"
   ]
  },
  {
   "cell_type": "code",
   "execution_count": 139,
   "id": "25e06b92-6d3c-434e-bff6-f27bef2ee5d7",
   "metadata": {},
   "outputs": [
    {
     "data": {
      "text/plain": [
       "'0b1111'"
      ]
     },
     "execution_count": 139,
     "metadata": {},
     "output_type": "execute_result"
    }
   ],
   "source": [
    "bin(15)"
   ]
  },
  {
   "cell_type": "code",
   "execution_count": null,
   "id": "91e8ec72-cb9b-4098-b7d6-a487b6d205d9",
   "metadata": {},
   "outputs": [],
   "source": [
    "| called bit wise or"
   ]
  },
  {
   "cell_type": "code",
   "execution_count": 140,
   "id": "17433192-89fc-4a69-80e3-4e599f0247a4",
   "metadata": {},
   "outputs": [
    {
     "data": {
      "text/plain": [
       "-21"
      ]
     },
     "execution_count": 140,
     "metadata": {},
     "output_type": "execute_result"
    }
   ],
   "source": [
    "~20"
   ]
  },
  {
   "cell_type": "code",
   "execution_count": 141,
   "id": "d1dab61f-453d-4453-9a6d-f012d38a0754",
   "metadata": {},
   "outputs": [
    {
     "data": {
      "text/plain": [
       "-13"
      ]
     },
     "execution_count": 141,
     "metadata": {},
     "output_type": "execute_result"
    }
   ],
   "source": [
    "~12"
   ]
  },
  {
   "cell_type": "code",
   "execution_count": 142,
   "id": "7d583b44-6819-4ea6-9b0d-926a31d9c487",
   "metadata": {},
   "outputs": [
    {
     "data": {
      "text/plain": [
       "'0b1100'"
      ]
     },
     "execution_count": 142,
     "metadata": {},
     "output_type": "execute_result"
    }
   ],
   "source": [
    "bin(12)"
   ]
  },
  {
   "cell_type": "code",
   "execution_count": 143,
   "id": "632ce978-b64b-4e3b-8699-33efad344390",
   "metadata": {},
   "outputs": [],
   "source": [
    "# tilt after answer"
   ]
  },
  {
   "cell_type": "code",
   "execution_count": 144,
   "id": "18ee1e23-89d1-450e-bbb5-eb4c832dc684",
   "metadata": {},
   "outputs": [],
   "source": [
    "#  -(1100+1)"
   ]
  },
  {
   "cell_type": "code",
   "execution_count": 145,
   "id": "1b9e6a85-f8c4-45c3-8d49-7049e0043633",
   "metadata": {},
   "outputs": [
    {
     "data": {
      "text/plain": [
       "'0b10100'"
      ]
     },
     "execution_count": 145,
     "metadata": {},
     "output_type": "execute_result"
    }
   ],
   "source": [
    "bin(20)"
   ]
  },
  {
   "cell_type": "code",
   "execution_count": 146,
   "id": "2a6cb6da-fa15-4d76-b416-865444255cf4",
   "metadata": {},
   "outputs": [],
   "source": [
    "# -(10100+1)"
   ]
  },
  {
   "cell_type": "code",
   "execution_count": 147,
   "id": "8d68f506-e376-48d6-8649-6f330b7eb5ed",
   "metadata": {},
   "outputs": [
    {
     "data": {
      "text/plain": [
       "'-0b10101'"
      ]
     },
     "execution_count": 147,
     "metadata": {},
     "output_type": "execute_result"
    }
   ],
   "source": [
    "bin(-21)"
   ]
  },
  {
   "cell_type": "code",
   "execution_count": 148,
   "id": "69e3538d-bbb6-492c-ae12-15c1697852da",
   "metadata": {},
   "outputs": [],
   "source": [
    "#right and left sift operator"
   ]
  },
  {
   "cell_type": "code",
   "execution_count": 149,
   "id": "e69615a8-f2e8-4f2d-a6f6-61bca8dd4209",
   "metadata": {},
   "outputs": [
    {
     "data": {
      "text/plain": [
       "0"
      ]
     },
     "execution_count": 149,
     "metadata": {},
     "output_type": "execute_result"
    }
   ],
   "source": [
    "a >>2"
   ]
  },
  {
   "cell_type": "code",
   "execution_count": 150,
   "id": "19f968f6-c5f6-493b-8c86-880a548a7e39",
   "metadata": {},
   "outputs": [
    {
     "data": {
      "text/plain": [
       "'0b1'"
      ]
     },
     "execution_count": 150,
     "metadata": {},
     "output_type": "execute_result"
    }
   ],
   "source": [
    "bin(a)"
   ]
  },
  {
   "cell_type": "code",
   "execution_count": 151,
   "id": "9dab7028-602b-4167-90f7-35f7c24ef2cd",
   "metadata": {},
   "outputs": [],
   "source": [
    "a = 8"
   ]
  },
  {
   "cell_type": "code",
   "execution_count": 152,
   "id": "03880b78-bbcc-47c6-a941-b428cfce2ae0",
   "metadata": {},
   "outputs": [
    {
     "data": {
      "text/plain": [
       "2"
      ]
     },
     "execution_count": 152,
     "metadata": {},
     "output_type": "execute_result"
    }
   ],
   "source": [
    "a >> 2"
   ]
  },
  {
   "cell_type": "code",
   "execution_count": 153,
   "id": "1e5cf6fa-7c56-4be6-8a0e-2c7598192777",
   "metadata": {},
   "outputs": [
    {
     "data": {
      "text/plain": [
       "'0b1000'"
      ]
     },
     "execution_count": 153,
     "metadata": {},
     "output_type": "execute_result"
    }
   ],
   "source": [
    "bin(a)"
   ]
  },
  {
   "cell_type": "code",
   "execution_count": 154,
   "id": "72f5784b-89d4-4bac-956d-e8356cd1efe8",
   "metadata": {},
   "outputs": [
    {
     "data": {
      "text/plain": [
       "1"
      ]
     },
     "execution_count": 154,
     "metadata": {},
     "output_type": "execute_result"
    }
   ],
   "source": [
    "a >> 3"
   ]
  },
  {
   "cell_type": "code",
   "execution_count": 155,
   "id": "1274c943-6d24-4da1-9712-7b1de923624b",
   "metadata": {},
   "outputs": [
    {
     "data": {
      "text/plain": [
       "0"
      ]
     },
     "execution_count": 155,
     "metadata": {},
     "output_type": "execute_result"
    }
   ],
   "source": [
    "a >> 4"
   ]
  },
  {
   "cell_type": "code",
   "execution_count": 156,
   "id": "449b18f7-46d1-4eb6-b6cc-de4ff755afee",
   "metadata": {},
   "outputs": [],
   "source": [
    "#called >> right sift operator"
   ]
  },
  {
   "cell_type": "code",
   "execution_count": 157,
   "id": "9d009a4a-816d-418e-b895-5232d4a50ad0",
   "metadata": {},
   "outputs": [
    {
     "data": {
      "text/plain": [
       "'0b10'"
      ]
     },
     "execution_count": 157,
     "metadata": {},
     "output_type": "execute_result"
    }
   ],
   "source": [
    "bin(2)"
   ]
  },
  {
   "cell_type": "code",
   "execution_count": 158,
   "id": "8ade0d19-664f-4592-a2e6-ebfa2b81342b",
   "metadata": {},
   "outputs": [
    {
     "data": {
      "text/plain": [
       "80"
      ]
     },
     "execution_count": 158,
     "metadata": {},
     "output_type": "execute_result"
    }
   ],
   "source": [
    "20 << 2"
   ]
  },
  {
   "cell_type": "code",
   "execution_count": 159,
   "id": "b2d0a563-5d19-44a4-b762-cf6eae7fc9a1",
   "metadata": {},
   "outputs": [
    {
     "data": {
      "text/plain": [
       "160"
      ]
     },
     "execution_count": 159,
     "metadata": {},
     "output_type": "execute_result"
    }
   ],
   "source": [
    "20 << 3"
   ]
  },
  {
   "cell_type": "code",
   "execution_count": 160,
   "id": "f4f3b82c-d737-432d-82b2-eb561cdc1d3d",
   "metadata": {},
   "outputs": [
    {
     "data": {
      "text/plain": [
       "320"
      ]
     },
     "execution_count": 160,
     "metadata": {},
     "output_type": "execute_result"
    }
   ],
   "source": [
    "20 << 4"
   ]
  },
  {
   "cell_type": "code",
   "execution_count": 161,
   "id": "5c11c710-c788-4ad6-a3d9-8c95914c0004",
   "metadata": {},
   "outputs": [
    {
     "data": {
      "text/plain": [
       "'0b10100'"
      ]
     },
     "execution_count": 161,
     "metadata": {},
     "output_type": "execute_result"
    }
   ],
   "source": [
    "bin(20)"
   ]
  },
  {
   "cell_type": "code",
   "execution_count": 162,
   "id": "e0d41dd4-39f4-46b8-86c1-f97e7c6b7292",
   "metadata": {},
   "outputs": [
    {
     "data": {
      "text/plain": [
       "'0b1010000'"
      ]
     },
     "execution_count": 162,
     "metadata": {},
     "output_type": "execute_result"
    }
   ],
   "source": [
    "bin(80)"
   ]
  },
  {
   "cell_type": "code",
   "execution_count": 163,
   "id": "dec26a83-cb62-4403-bc42-1a16da7e7d2c",
   "metadata": {},
   "outputs": [
    {
     "data": {
      "text/plain": [
       "'0b10100000'"
      ]
     },
     "execution_count": 163,
     "metadata": {},
     "output_type": "execute_result"
    }
   ],
   "source": [
    "bin(160)"
   ]
  },
  {
   "cell_type": "code",
   "execution_count": 164,
   "id": "992e3667-5317-40d8-b9fd-4fe7885cbc07",
   "metadata": {},
   "outputs": [
    {
     "data": {
      "text/plain": [
       "'0b101000000'"
      ]
     },
     "execution_count": 164,
     "metadata": {},
     "output_type": "execute_result"
    }
   ],
   "source": [
    "bin(320)"
   ]
  },
  {
   "cell_type": "code",
   "execution_count": 165,
   "id": "e85a19d1-70b1-4d1e-a1a5-9fd7df997c18",
   "metadata": {},
   "outputs": [
    {
     "data": {
      "text/plain": [
       "5"
      ]
     },
     "execution_count": 165,
     "metadata": {},
     "output_type": "execute_result"
    }
   ],
   "source": [
    "20>>2"
   ]
  },
  {
   "cell_type": "code",
   "execution_count": 166,
   "id": "2a01c205-d59c-4eb8-ad2b-44fdfa4cf818",
   "metadata": {},
   "outputs": [
    {
     "data": {
      "text/plain": [
       "2"
      ]
     },
     "execution_count": 166,
     "metadata": {},
     "output_type": "execute_result"
    }
   ],
   "source": [
    "20>>3"
   ]
  },
  {
   "cell_type": "code",
   "execution_count": 167,
   "id": "028e09b3-92ce-4b60-8473-63007aa84634",
   "metadata": {},
   "outputs": [
    {
     "data": {
      "text/plain": [
       "1"
      ]
     },
     "execution_count": 167,
     "metadata": {},
     "output_type": "execute_result"
    }
   ],
   "source": [
    "20>>4"
   ]
  },
  {
   "cell_type": "code",
   "execution_count": 168,
   "id": "be7108d7-fc1a-4848-a35a-f8364b9711d0",
   "metadata": {},
   "outputs": [
    {
     "data": {
      "text/plain": [
       "'0b10100'"
      ]
     },
     "execution_count": 168,
     "metadata": {},
     "output_type": "execute_result"
    }
   ],
   "source": [
    "bin(20)"
   ]
  },
  {
   "cell_type": "code",
   "execution_count": 170,
   "id": "cd85ab41-92a9-424a-9578-2d2fbfeb7eeb",
   "metadata": {},
   "outputs": [
    {
     "data": {
      "text/plain": [
       "'0b101'"
      ]
     },
     "execution_count": 170,
     "metadata": {},
     "output_type": "execute_result"
    }
   ],
   "source": [
    "bin(5)"
   ]
  },
  {
   "cell_type": "code",
   "execution_count": 171,
   "id": "b6f361c5-5336-4d43-9c27-506c77742481",
   "metadata": {},
   "outputs": [
    {
     "data": {
      "text/plain": [
       "'0b10'"
      ]
     },
     "execution_count": 171,
     "metadata": {},
     "output_type": "execute_result"
    }
   ],
   "source": [
    "bin(2)"
   ]
  },
  {
   "cell_type": "code",
   "execution_count": 172,
   "id": "e35bdb11-29b7-4076-bdbb-8a0926d8e365",
   "metadata": {},
   "outputs": [
    {
     "data": {
      "text/plain": [
       "'0b1'"
      ]
     },
     "execution_count": 172,
     "metadata": {},
     "output_type": "execute_result"
    }
   ],
   "source": [
    "bin(1)"
   ]
  },
  {
   "cell_type": "code",
   "execution_count": 173,
   "id": "a61a77ad-f112-47e3-8e8b-43ed5ab55dc5",
   "metadata": {},
   "outputs": [],
   "source": [
    "#right sift operator"
   ]
  },
  {
   "cell_type": "code",
   "execution_count": 174,
   "id": "03558d9b-3a33-4d05-af72-b50e5af370ed",
   "metadata": {},
   "outputs": [],
   "source": [
    "a = 10"
   ]
  },
  {
   "cell_type": "code",
   "execution_count": 175,
   "id": "973009eb-79b1-44eb-89dc-33e8d9352d03",
   "metadata": {},
   "outputs": [],
   "source": [
    "# = is called assignment operator"
   ]
  },
  {
   "cell_type": "code",
   "execution_count": 176,
   "id": "f3abb7f0-8861-49d3-968b-fbfe7f26c264",
   "metadata": {},
   "outputs": [],
   "source": [
    "a += 1"
   ]
  },
  {
   "cell_type": "code",
   "execution_count": 177,
   "id": "09284238-eccb-41fb-8caf-eacb965ef332",
   "metadata": {},
   "outputs": [
    {
     "data": {
      "text/plain": [
       "11"
      ]
     },
     "execution_count": 177,
     "metadata": {},
     "output_type": "execute_result"
    }
   ],
   "source": [
    "a"
   ]
  },
  {
   "cell_type": "code",
   "execution_count": 178,
   "id": "edccbd75-e42c-4ea6-ba63-f8a967d7bce8",
   "metadata": {},
   "outputs": [],
   "source": [
    "a = a +1"
   ]
  },
  {
   "cell_type": "code",
   "execution_count": 179,
   "id": "f3f95e77-d6c1-4130-8edd-00ea45566976",
   "metadata": {},
   "outputs": [],
   "source": [
    "b = 10"
   ]
  },
  {
   "cell_type": "code",
   "execution_count": 180,
   "id": "1965e686-3c77-4126-86e6-80135636f671",
   "metadata": {},
   "outputs": [],
   "source": [
    "b += 1"
   ]
  },
  {
   "cell_type": "code",
   "execution_count": 181,
   "id": "6861d9da-c30c-4c02-8528-19520deb8883",
   "metadata": {},
   "outputs": [
    {
     "data": {
      "text/plain": [
       "11"
      ]
     },
     "execution_count": 181,
     "metadata": {},
     "output_type": "execute_result"
    }
   ],
   "source": [
    "b "
   ]
  },
  {
   "cell_type": "code",
   "execution_count": 182,
   "id": "524aa610-7a72-4239-9353-c319aca9a425",
   "metadata": {},
   "outputs": [],
   "source": [
    "b +=7"
   ]
  },
  {
   "cell_type": "code",
   "execution_count": 183,
   "id": "0687106b-aac1-4c50-bc3c-0a81fe36cff4",
   "metadata": {},
   "outputs": [
    {
     "data": {
      "text/plain": [
       "18"
      ]
     },
     "execution_count": 183,
     "metadata": {},
     "output_type": "execute_result"
    }
   ],
   "source": [
    "b"
   ]
  },
  {
   "cell_type": "code",
   "execution_count": 184,
   "id": "b2f116a2-2e6e-45aa-b388-17a4361e8cbb",
   "metadata": {},
   "outputs": [],
   "source": [
    "c = 20 "
   ]
  },
  {
   "cell_type": "code",
   "execution_count": 185,
   "id": "7a80739e-00bb-496f-bc1a-91f6b199f759",
   "metadata": {},
   "outputs": [],
   "source": [
    "c = c -1"
   ]
  },
  {
   "cell_type": "code",
   "execution_count": 186,
   "id": "4d8be33b-9bd0-488c-88cd-d465d20af9be",
   "metadata": {},
   "outputs": [
    {
     "data": {
      "text/plain": [
       "19"
      ]
     },
     "execution_count": 186,
     "metadata": {},
     "output_type": "execute_result"
    }
   ],
   "source": [
    "c"
   ]
  },
  {
   "cell_type": "code",
   "execution_count": 187,
   "id": "0acab5c8-f3a0-45b1-baaf-09bf5e8a242e",
   "metadata": {},
   "outputs": [],
   "source": [
    "c -= 1"
   ]
  },
  {
   "cell_type": "code",
   "execution_count": 188,
   "id": "f57bec5f-342e-4059-adc2-a1f9ab5028c1",
   "metadata": {},
   "outputs": [
    {
     "data": {
      "text/plain": [
       "18"
      ]
     },
     "execution_count": 188,
     "metadata": {},
     "output_type": "execute_result"
    }
   ],
   "source": [
    "c"
   ]
  },
  {
   "cell_type": "code",
   "execution_count": 189,
   "id": "455e2253-ea0a-418f-ae4d-591e13eacf47",
   "metadata": {},
   "outputs": [],
   "source": [
    "#also acalled assignment operator"
   ]
  },
  {
   "cell_type": "code",
   "execution_count": 190,
   "id": "58875227-beff-4108-8d38-da390bebe398",
   "metadata": {},
   "outputs": [],
   "source": [
    "# conditions class"
   ]
  },
  {
   "cell_type": "code",
   "execution_count": 191,
   "id": "829a85b1-b02d-4d44-978e-7fd2b5c7268d",
   "metadata": {},
   "outputs": [],
   "source": [
    "# if else,white and for"
   ]
  },
  {
   "cell_type": "code",
   "execution_count": 193,
   "id": "1776f522-e181-4e57-baf5-771d11155cbf",
   "metadata": {},
   "outputs": [],
   "source": [
    "a = 10\n",
    "if a >10 :\n",
    "    print(\"yes a is greater than 10\")"
   ]
  },
  {
   "cell_type": "code",
   "execution_count": 194,
   "id": "ead9796a-50c0-4182-a82d-44ff4ebdda6a",
   "metadata": {},
   "outputs": [],
   "source": [
    "# indentation error"
   ]
  },
  {
   "cell_type": "code",
   "execution_count": 195,
   "id": "259947d1-a8b3-4f74-a776-a3a83fc051a1",
   "metadata": {},
   "outputs": [
    {
     "data": {
      "text/plain": [
       "False"
      ]
     },
     "execution_count": 195,
     "metadata": {},
     "output_type": "execute_result"
    }
   ],
   "source": [
    "a >10"
   ]
  },
  {
   "cell_type": "code",
   "execution_count": 197,
   "id": "188c7ba6-a2ec-4914-a732-5fc8d321eced",
   "metadata": {},
   "outputs": [
    {
     "name": "stdout",
     "output_type": "stream",
     "text": [
      "yes a is greater than 10\n"
     ]
    }
   ],
   "source": [
    "a = 10\n",
    "if a >=10 :\n",
    "    print(\"yes a is greater than 10\")"
   ]
  },
  {
   "cell_type": "code",
   "execution_count": 198,
   "id": "2f5e7da6-b551-421b-a0da-0b2639fc76c8",
   "metadata": {},
   "outputs": [
    {
     "data": {
      "text/plain": [
       "True"
      ]
     },
     "execution_count": 198,
     "metadata": {},
     "output_type": "execute_result"
    }
   ],
   "source": [
    "a >= 10"
   ]
  },
  {
   "cell_type": "code",
   "execution_count": 199,
   "id": "02d08b1d-d436-46e2-bd58-c1a2945e0345",
   "metadata": {},
   "outputs": [],
   "source": [
    "#if check condition first"
   ]
  },
  {
   "cell_type": "code",
   "execution_count": 201,
   "id": "21a02b5d-6385-4329-84b7-f1bda20e6cd5",
   "metadata": {},
   "outputs": [],
   "source": [
    "b = 20\n",
    "if b >30:\n",
    "    print(\"yes b is greater than 30\")"
   ]
  },
  {
   "cell_type": "code",
   "execution_count": 202,
   "id": "fa3adbc8-726b-4a33-b643-3eaaab41e365",
   "metadata": {},
   "outputs": [
    {
     "data": {
      "text/plain": [
       "False"
      ]
     },
     "execution_count": 202,
     "metadata": {},
     "output_type": "execute_result"
    }
   ],
   "source": [
    "b >30"
   ]
  },
  {
   "cell_type": "code",
   "execution_count": 208,
   "id": "91eea6e7-774b-4294-9006-566ba6d57c1d",
   "metadata": {},
   "outputs": [
    {
     "name": "stdout",
     "output_type": "stream",
     "text": [
      "yes b is lesser than 40\n"
     ]
    }
   ],
   "source": [
    "b = 20\n",
    "if b >30:\n",
    "    print(\"yes b is greater than 30\")\n",
    "elif b <40:\n",
    "    print(\"yes b is lesser than 40\")\n",
    "elif b >100:\n",
    "    print(\"yes b is greater than 100\")\n",
    "else:\n",
    "    print(\"this is my default\")\n",
    "    "
   ]
  },
  {
   "cell_type": "code",
   "execution_count": 205,
   "id": "c811d34c-76d5-4b2b-b3b0-e1754e207c96",
   "metadata": {},
   "outputs": [
    {
     "data": {
      "text/plain": [
       "False"
      ]
     },
     "execution_count": 205,
     "metadata": {},
     "output_type": "execute_result"
    }
   ],
   "source": [
    "b >30"
   ]
  },
  {
   "cell_type": "code",
   "execution_count": 206,
   "id": "50898693-6b2f-4534-bfa1-ed91a19d79da",
   "metadata": {},
   "outputs": [
    {
     "data": {
      "text/plain": [
       "True"
      ]
     },
     "execution_count": 206,
     "metadata": {},
     "output_type": "execute_result"
    }
   ],
   "source": [
    "b < 40"
   ]
  },
  {
   "cell_type": "code",
   "execution_count": null,
   "id": "c0de1b3a-5108-4b97-88f9-5658181af5ef",
   "metadata": {},
   "outputs": [],
   "source": []
  },
  {
   "cell_type": "code",
   "execution_count": 209,
   "id": "3c6a9c8f-cb70-4e88-ad7c-995352c8d170",
   "metadata": {},
   "outputs": [
    {
     "name": "stdin",
     "output_type": "stream",
     "text": [
      " 324\n"
     ]
    },
    {
     "data": {
      "text/plain": [
       "'324'"
      ]
     },
     "execution_count": 209,
     "metadata": {},
     "output_type": "execute_result"
    }
   ],
   "source": [
    "input()"
   ]
  },
  {
   "cell_type": "code",
   "execution_count": 210,
   "id": "10a6656d-dfc7-4251-8b42-9f91f08832ae",
   "metadata": {},
   "outputs": [],
   "source": [
    "# input automatically convert into string"
   ]
  },
  {
   "cell_type": "code",
   "execution_count": 212,
   "id": "d0082fea-c830-4677-aa5e-17db6991e300",
   "metadata": {},
   "outputs": [
    {
     "name": "stdin",
     "output_type": "stream",
     "text": [
      " 45\n"
     ]
    }
   ],
   "source": [
    "b=int(input())"
   ]
  },
  {
   "cell_type": "code",
   "execution_count": 213,
   "id": "ce8a5bd6-1bc3-43ca-b154-9fac355928af",
   "metadata": {},
   "outputs": [
    {
     "data": {
      "text/plain": [
       "45"
      ]
     },
     "execution_count": 213,
     "metadata": {},
     "output_type": "execute_result"
    }
   ],
   "source": [
    "b"
   ]
  },
  {
   "cell_type": "code",
   "execution_count": 215,
   "id": "0c5fb9ce-2d18-4f4e-abae-f2feabda5384",
   "metadata": {},
   "outputs": [
    {
     "name": "stdin",
     "output_type": "stream",
     "text": [
      " 2\n"
     ]
    },
    {
     "name": "stdout",
     "output_type": "stream",
     "text": [
      "yes b is lesser than 40\n"
     ]
    }
   ],
   "source": [
    "b = int(input())\n",
    "if b >30:\n",
    "    print(\"yes b is greater than 30\")\n",
    "elif b <40:\n",
    "    print(\"yes b is lesser than 40\")\n",
    "elif b >100:\n",
    "    print(\"yes b is greater than 100\")\n",
    "else:\n",
    "    print(\"this is my default\")\n",
    "    "
   ]
  },
  {
   "cell_type": "code",
   "execution_count": 216,
   "id": "d7da16c2-30f3-4e07-a0ae-7928850e6da8",
   "metadata": {},
   "outputs": [
    {
     "data": {
      "text/plain": [
       "34"
      ]
     },
     "execution_count": 216,
     "metadata": {},
     "output_type": "execute_result"
    }
   ],
   "source": [
    "int(\"34\")"
   ]
  },
  {
   "cell_type": "code",
   "execution_count": 217,
   "id": "3737f42b-1fc5-488f-9796-1d0650511c1a",
   "metadata": {},
   "outputs": [
    {
     "data": {
      "text/plain": [
       "int"
      ]
     },
     "execution_count": 217,
     "metadata": {},
     "output_type": "execute_result"
    }
   ],
   "source": [
    "type(b)"
   ]
  },
  {
   "cell_type": "code",
   "execution_count": null,
   "id": "3f0f3574-7090-491d-a51b-7ca4e0879e56",
   "metadata": {},
   "outputs": [],
   "source": [
    "n = 4\n",
    "i = 1\n",
    "while i < n:\n",
    "    print(i):\n",
    "    i=i+1"
   ]
  },
  {
   "cell_type": "code",
   "execution_count": null,
   "id": "b83c5951-fcc1-43a5-a52d-bb83411d6341",
   "metadata": {},
   "outputs": [],
   "source": [
    "n = 4\n",
    "i = 1\n",
    "while i < n:\n",
    "    print(i):\n",
    "    i=i+1"
   ]
  },
  {
   "cell_type": "code",
   "execution_count": 220,
   "id": "76db63ca-904e-49a9-bfce-28ef92d0a5f0",
   "metadata": {},
   "outputs": [
    {
     "data": {
      "text/plain": [
       "3"
      ]
     },
     "execution_count": 220,
     "metadata": {},
     "output_type": "execute_result"
    }
   ],
   "source": [
    "1+2"
   ]
  },
  {
   "cell_type": "code",
   "execution_count": 221,
   "id": "1ee031a4-3c9b-4fd3-9c04-3f47bf43d431",
   "metadata": {},
   "outputs": [
    {
     "ename": "SyntaxError",
     "evalue": "invalid syntax (3293926254.py, line 4)",
     "output_type": "error",
     "traceback": [
      "\u001b[0;36m  Cell \u001b[0;32mIn[221], line 4\u001b[0;36m\u001b[0m\n\u001b[0;31m    print(i):\u001b[0m\n\u001b[0m            ^\u001b[0m\n\u001b[0;31mSyntaxError\u001b[0m\u001b[0;31m:\u001b[0m invalid syntax\n"
     ]
    }
   ],
   "source": [
    "n = 4\n",
    "i = 1\n",
    "while i < n:\n",
    "    print(i):\n",
    "    i=i+1"
   ]
  },
  {
   "cell_type": "code",
   "execution_count": 222,
   "id": "5ffdeead-ad07-49f5-a000-d90cbd194587",
   "metadata": {},
   "outputs": [
    {
     "name": "stdout",
     "output_type": "stream",
     "text": [
      "1\n",
      "2\n",
      "3\n"
     ]
    }
   ],
   "source": [
    "n = 4\n",
    "i =1\n",
    "while i <n:\n",
    "    print(i)\n",
    "    i = i+1"
   ]
  },
  {
   "cell_type": "code",
   "execution_count": 223,
   "id": "32c86015-5b39-4766-ba4d-82f26d70dd77",
   "metadata": {},
   "outputs": [
    {
     "name": "stdout",
     "output_type": "stream",
     "text": [
      "1\n",
      "2\n",
      "3\n",
      "this is my default\n"
     ]
    }
   ],
   "source": [
    "n = 4\n",
    "i =1\n",
    "while i <n:\n",
    "    print(i)\n",
    "    i = i+1\n",
    "else :\n",
    "    print(\"this is my default\")"
   ]
  },
  {
   "cell_type": "code",
   "execution_count": 224,
   "id": "af1087ff-75c9-4624-8677-b73e4b11f85e",
   "metadata": {},
   "outputs": [],
   "source": [
    "#if while does not complete itself then else also not executr\n",
    "#if elif and if not completed itself then else is work properly"
   ]
  },
  {
   "cell_type": "code",
   "execution_count": 225,
   "id": "772a9f67-7322-427e-b0c9-b31d14da41a5",
   "metadata": {},
   "outputs": [
    {
     "ename": "SyntaxError",
     "evalue": "invalid syntax (3675211407.py, line 4)",
     "output_type": "error",
     "traceback": [
      "\u001b[0;36m  Cell \u001b[0;32mIn[225], line 4\u001b[0;36m\u001b[0m\n\u001b[0;31m    print(i):\u001b[0m\n\u001b[0m            ^\u001b[0m\n\u001b[0;31mSyntaxError\u001b[0m\u001b[0;31m:\u001b[0m invalid syntax\n"
     ]
    }
   ],
   "source": [
    "n=4\n",
    "i=1\n",
    "while i<n:\n",
    "    print(i):\n",
    "    i = i +1\n",
    "    if i ==3 :\n",
    "        break\n",
    "else:\n",
    "    print(\"this is my else\")"
   ]
  },
  {
   "cell_type": "code",
   "execution_count": 226,
   "id": "9647aa33-06e9-4b37-81f6-0faad82a949a",
   "metadata": {},
   "outputs": [
    {
     "name": "stdout",
     "output_type": "stream",
     "text": [
      "1\n",
      "2\n"
     ]
    }
   ],
   "source": [
    "n = 4\n",
    "i = 1\n",
    "while i <n:\n",
    "    print(i)\n",
    "    i = i +1\n",
    "    if i ==3:\n",
    "        break\n",
    "else:\n",
    "    print(\"this is my else\")"
   ]
  },
  {
   "cell_type": "code",
   "execution_count": 227,
   "id": "fc288845-0cfe-4494-9a2c-abc1ce61bcdc",
   "metadata": {},
   "outputs": [
    {
     "name": "stdout",
     "output_type": "stream",
     "text": [
      "s\n",
      "u\n",
      "d\n",
      "h\n"
     ]
    }
   ],
   "source": [
    "s =\"sudh\"\n",
    "for i in s :\n",
    "    print(i)"
   ]
  },
  {
   "cell_type": "code",
   "execution_count": 228,
   "id": "74c52fa1-ca2b-4026-baa6-f07fcd0da9f7",
   "metadata": {},
   "outputs": [],
   "source": [
    "l = [2,3,4,5,6,\"sudh\",\"pwskill\",23.45,True]"
   ]
  },
  {
   "cell_type": "code",
   "execution_count": 229,
   "id": "ef00d2e0-8b36-4960-8b35-2799e987e058",
   "metadata": {},
   "outputs": [
    {
     "name": "stdout",
     "output_type": "stream",
     "text": [
      "<class 'int'>\n",
      "<class 'int'>\n",
      "<class 'int'>\n",
      "<class 'int'>\n",
      "<class 'int'>\n",
      "<class 'str'>\n",
      "<class 'str'>\n",
      "<class 'float'>\n",
      "<class 'bool'>\n"
     ]
    }
   ],
   "source": [
    "for i in l:\n",
    "    print(type(i))"
   ]
  },
  {
   "cell_type": "code",
   "execution_count": 230,
   "id": "8c765ab0-8f3d-432a-ad40-07184a07d109",
   "metadata": {},
   "outputs": [
    {
     "name": "stdout",
     "output_type": "stream",
     "text": [
      "<class 'int'>\n",
      "<class 'int'>\n",
      "<class 'int'>\n",
      "<class 'int'>\n",
      "<class 'int'>\n",
      "<class 'str'>\n",
      "<class 'str'>\n",
      "<class 'float'>\n",
      "<class 'bool'>\n",
      "this will be executed once for loop will complete itself successfully\n"
     ]
    }
   ],
   "source": [
    "for i in l:\n",
    "    print(type(i))\n",
    "else:\n",
    "    print(\"this will be executed once for loop will complete itself successfully\")"
   ]
  },
  {
   "cell_type": "code",
   "execution_count": 231,
   "id": "211f82ec-e15a-4dff-af3a-64acc16d47d1",
   "metadata": {},
   "outputs": [
    {
     "data": {
      "text/plain": [
       "[2, 3, 4, 5, 6, 'sudh', 'pwskill', 23.45, True]"
      ]
     },
     "execution_count": 231,
     "metadata": {},
     "output_type": "execute_result"
    }
   ],
   "source": [
    "l"
   ]
  },
  {
   "cell_type": "code",
   "execution_count": 234,
   "id": "98abd892-a955-4fd0-9705-2ff0128e13b3",
   "metadata": {},
   "outputs": [
    {
     "name": "stdout",
     "output_type": "stream",
     "text": [
      "<class 'int'>\n",
      "<class 'int'>\n",
      "<class 'int'>\n",
      "<class 'int'>\n",
      "<class 'int'>\n",
      "<class 'str'>\n",
      "<class 'str'>\n",
      "<class 'float'>\n",
      "<class 'bool'>\n",
      "this will be executed once for loop will comlpete itself successfully\n"
     ]
    }
   ],
   "source": [
    "for i in l :\n",
    "    print(type(i))\n",
    "    if i ==6:\n",
    "        continue\n",
    "else:\n",
    "    print(\"this will be executed once for loop will comlpete itself successfully\")"
   ]
  },
  {
   "cell_type": "code",
   "execution_count": 233,
   "id": "51b51263-f6d3-4f9c-b52a-8961fa349051",
   "metadata": {},
   "outputs": [
    {
     "data": {
      "text/plain": [
       "[2, 3, 4, 5, 6, 'sudh', 'pwskill', 23.45, True]"
      ]
     },
     "execution_count": 233,
     "metadata": {},
     "output_type": "execute_result"
    }
   ],
   "source": [
    "l"
   ]
  },
  {
   "cell_type": "code",
   "execution_count": 235,
   "id": "418af46d-1766-4bbd-9d0d-cda10fc8c36f",
   "metadata": {},
   "outputs": [
    {
     "name": "stdout",
     "output_type": "stream",
     "text": [
      "<class 'int'>\n",
      "2\n",
      "<class 'int'>\n",
      "3\n",
      "<class 'int'>\n",
      "4\n",
      "<class 'int'>\n",
      "5\n",
      "<class 'int'>\n",
      "<class 'str'>\n",
      "sudh\n",
      "<class 'str'>\n",
      "pwskill\n",
      "<class 'float'>\n",
      "23.45\n",
      "<class 'bool'>\n",
      "True\n",
      "this will be executed once for loop will comlpete itself successfully\n"
     ]
    }
   ],
   "source": [
    "for i in l :\n",
    "    print(type(i))\n",
    "    if i ==6:\n",
    "        continue\n",
    "    print(i)\n",
    "else:\n",
    "    print(\"this will be executed once for loop will comlpete itself successfully\")"
   ]
  },
  {
   "cell_type": "code",
   "execution_count": 236,
   "id": "ebab1bd7-97b4-4aa0-9fcb-974f45e8d2f1",
   "metadata": {},
   "outputs": [],
   "source": [
    "#continue immediditely send to for"
   ]
  },
  {
   "cell_type": "code",
   "execution_count": null,
   "id": "67c36f08-a03c-4e42-9b59-8050121c4ae2",
   "metadata": {},
   "outputs": [],
   "source": []
  }
 ],
 "metadata": {
  "kernelspec": {
   "display_name": "Python 3 (ipykernel)",
   "language": "python",
   "name": "python3"
  },
  "language_info": {
   "codemirror_mode": {
    "name": "ipython",
    "version": 3
   },
   "file_extension": ".py",
   "mimetype": "text/x-python",
   "name": "python",
   "nbconvert_exporter": "python",
   "pygments_lexer": "ipython3",
   "version": "3.10.8"
  }
 },
 "nbformat": 4,
 "nbformat_minor": 5
}
